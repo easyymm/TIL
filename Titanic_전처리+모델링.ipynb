{
  "nbformat": 4,
  "nbformat_minor": 0,
  "metadata": {
    "colab": {
      "provenance": [],
      "toc_visible": true,
      "authorship_tag": "ABX9TyPTbZjxjKnrfTfcRQI1+/uz",
      "include_colab_link": true
    },
    "kernelspec": {
      "name": "python3",
      "display_name": "Python 3"
    },
    "language_info": {
      "name": "python"
    }
  },
  "cells": [
    {
      "cell_type": "markdown",
      "metadata": {
        "id": "view-in-github",
        "colab_type": "text"
      },
      "source": [
        "<a href=\"https://colab.research.google.com/github/easyymm/TIL/blob/main/Titanic_%EC%A0%84%EC%B2%98%EB%A6%AC%2B%EB%AA%A8%EB%8D%B8%EB%A7%81.ipynb\" target=\"_parent\"><img src=\"https://colab.research.google.com/assets/colab-badge.svg\" alt=\"Open In Colab\"/></a>"
      ]
    },
    {
      "cell_type": "markdown",
      "source": [
        "# **Titanic 생존자 예측**\n",
        "https://www.kaggle.com/c/titanic/data\n",
        "\n",
        "Goal: \"어떤 특징을 가진 사람이 생존할 가능성이 높은가?\"를 예측하는 모델 만들기"
      ],
      "metadata": {
        "id": "Y5nAdDPKVTZE"
      }
    },
    {
      "cell_type": "markdown",
      "source": [
        "# 데이터 불러오기"
      ],
      "metadata": {
        "id": "toEqDFWZXAqO"
      }
    },
    {
      "cell_type": "code",
      "execution_count": null,
      "metadata": {
        "colab": {
          "base_uri": "https://localhost:8080/"
        },
        "id": "sVKd1-yeyArS",
        "outputId": "a14dea98-27fe-4d2e-b500-b3cbd5b31dad"
      },
      "outputs": [
        {
          "output_type": "stream",
          "name": "stdout",
          "text": [
            "Drive already mounted at /content/data; to attempt to forcibly remount, call drive.mount(\"/content/data\", force_remount=True).\n"
          ]
        }
      ],
      "source": [
        "from google.colab import drive\n",
        "drive.mount('/content/data')"
      ]
    },
    {
      "cell_type": "code",
      "source": [
        "import numpy as np\n",
        "import pandas as pd\n",
        "import matplotlib.pyplot as plt\n",
        "import seaborn as sns\n",
        "\n",
        "\n",
        "import warnings\n",
        "warnings.filterwarnings('ignore')"
      ],
      "metadata": {
        "id": "LIZOPjQDyT3x"
      },
      "execution_count": null,
      "outputs": []
    },
    {
      "cell_type": "code",
      "source": [
        "train = pd.read_csv('/content/data/MyDrive/titanic/titanic/asset/train.csv')\n",
        "test = pd.read_csv('/content/data/MyDrive/titanic/titanic/asset/test.csv')"
      ],
      "metadata": {
        "id": "P9QY3qAC9cRS"
      },
      "execution_count": null,
      "outputs": []
    },
    {
      "cell_type": "markdown",
      "source": [
        "# 결측치 처리"
      ],
      "metadata": {
        "id": "5POs5_XdVnwS"
      }
    },
    {
      "cell_type": "markdown",
      "source": [
        "## Cabin 컬럼 제거"
      ],
      "metadata": {
        "id": "5xY7Rei1FBic"
      }
    },
    {
      "cell_type": "code",
      "source": [
        "train.drop(['Cabin'], axis=1, inplace=True)\n",
        "test.drop(['Cabin'], axis=1, inplace=True)"
      ],
      "metadata": {
        "id": "fJPOJqyv9cE9"
      },
      "execution_count": null,
      "outputs": []
    },
    {
      "cell_type": "markdown",
      "source": [
        "## Age 컬럼 결측치: 새 피처 Title(<-Name)별 중앙값"
      ],
      "metadata": {
        "id": "n17nORYiFE4U"
      }
    },
    {
      "cell_type": "code",
      "source": [
        "train['Title'] = train['Name'].str.extract(' ([A-Za-z]+)\\.', expand=False)\n",
        "test['Title'] = test['Name'].str.extract(' ([A-Za-z]+)\\.', expand=False)"
      ],
      "metadata": {
        "id": "2i8FNf8bV-3G"
      },
      "execution_count": null,
      "outputs": []
    },
    {
      "cell_type": "code",
      "source": [
        "# 같은 의미의 타이틀 매핑\n",
        "\n",
        "title_mapping = {\n",
        "    'Miss': 'Woman', 'Mrs':'Woman', 'Mlle': 'Woman', 'Ms': 'Woman', 'Mme': 'Woman', 'Lady': 'Woman', 'Countess': 'Woman',\n",
        "    'Sir': 'Mr', 'Don': 'Mr', 'Jonkheer': 'Mr',\n",
        "    'Col': 'prof', 'Major': 'prof', 'Capt': 'prof',\n",
        "    'Rev': 'prof', 'Dr': 'prof'\n",
        "    }\n",
        "train['Title'] = train['Title'].replace(title_mapping)\n",
        "test['Title'] = test['Title'].replace(title_mapping)"
      ],
      "metadata": {
        "id": "FklWKRmdXttW"
      },
      "execution_count": null,
      "outputs": []
    },
    {
      "cell_type": "code",
      "source": [
        "valid_titles = set(train['Title'].unique())\n",
        "\n",
        "train['Title'] = train['Title'].apply(lambda x: x if x in valid_titles else 'Other')\n",
        "test['Title'] = test['Title'].apply(lambda x: x if x in valid_titles else 'Other')"
      ],
      "metadata": {
        "id": "msjN1vDBhtLM"
      },
      "execution_count": null,
      "outputs": []
    },
    {
      "cell_type": "code",
      "source": [
        "# 타이틀별로 나이 결측치 중앙값으로 보간\n",
        "train['Age'] = train.groupby('Title')['Age'].transform(lambda x: x.fillna(x.median()))\n",
        "test['Age'] = test.groupby('Title')['Age'].transform(lambda x: x.fillna(x.median()))"
      ],
      "metadata": {
        "id": "HZH1eN2qXtMd"
      },
      "execution_count": null,
      "outputs": []
    },
    {
      "cell_type": "markdown",
      "source": [
        "## Embarked 결측치 처리\n",
        "범주형 변수, mode로 보간  \n",
        "(수가 적어 단순 제거도 가능)"
      ],
      "metadata": {
        "id": "NVv80l4_FI3G"
      }
    },
    {
      "cell_type": "code",
      "source": [
        "train['Embarked'].fillna(train['Embarked'].mode()[0], inplace=True)"
      ],
      "metadata": {
        "id": "jMWimVjI9b-a"
      },
      "execution_count": null,
      "outputs": []
    },
    {
      "cell_type": "markdown",
      "source": [
        "## Fare 결측치 처리"
      ],
      "metadata": {
        "id": "YLSN27tGFM0W"
      }
    },
    {
      "cell_type": "code",
      "source": [
        "# 결측치를 해당 등급의 평균값으로 보간\n",
        "test['Fare'] = test.groupby('Pclass')['Fare'].transform(lambda x: x.fillna(x.mean()))"
      ],
      "metadata": {
        "id": "a0xW8kxh9b5B"
      },
      "execution_count": null,
      "outputs": []
    },
    {
      "cell_type": "markdown",
      "source": [
        "# 이상치 처리: Fare(IQR)"
      ],
      "metadata": {
        "id": "JgVij6aoezKt"
      }
    },
    {
      "cell_type": "code",
      "source": [
        "Q1 = train[\"Fare\"].quantile(0.25)\n",
        "Q3 = train[\"Fare\"].quantile(0.75)\n",
        "IQR = Q3 - Q1\n",
        "lower_bound = Q1 - 1.5 * IQR\n",
        "upper_bound = Q3 + 1.5 * IQR"
      ],
      "metadata": {
        "id": "p7t0QT6Q-Mbm"
      },
      "execution_count": null,
      "outputs": []
    },
    {
      "cell_type": "code",
      "source": [
        "# train 이상치 제거\n",
        "train = train[(train['Fare'] >= Q1 - 1.5 * IQR) & (train['Fare'] <= Q3 + 1.5 * IQR)]\n",
        "\n",
        "# test 이상치 변환\n",
        "test[\"Fare\"] = np.clip(test[\"Fare\"], lower_bound, upper_bound)"
      ],
      "metadata": {
        "id": "yWBLUtlo21m-"
      },
      "execution_count": null,
      "outputs": []
    },
    {
      "cell_type": "markdown",
      "source": [
        "# 왜도 처리: Box-Cox 변환"
      ],
      "metadata": {
        "id": "vtLVcsE1o3pf"
      }
    },
    {
      "cell_type": "code",
      "source": [
        "from scipy import stats\n",
        "\n",
        "train['Fare'], best_lambda = stats.boxcox(train['Fare'] + 1)\n",
        "test['Fare'], best_lambda = stats.boxcox(test['Fare'] + 1)"
      ],
      "metadata": {
        "id": "d1EkME6to5xY"
      },
      "execution_count": null,
      "outputs": []
    },
    {
      "cell_type": "code",
      "source": [
        "from scipy.stats import skew\n",
        "\n",
        "print(skew(train['Fare']))\n",
        "print(skew(test['Fare']))"
      ],
      "metadata": {
        "colab": {
          "base_uri": "https://localhost:8080/"
        },
        "id": "iyTdXnqjKD_L",
        "outputId": "73221c5d-d056-48aa-835c-ea662b4f7dd5"
      },
      "execution_count": null,
      "outputs": [
        {
          "output_type": "stream",
          "name": "stdout",
          "text": [
            "0.03321048442702723\n",
            "0.0007588912563873815\n"
          ]
        }
      ]
    },
    {
      "cell_type": "markdown",
      "source": [
        "# 범주형 변수 인코딩"
      ],
      "metadata": {
        "id": "kDGifs7xZxx3"
      }
    },
    {
      "cell_type": "markdown",
      "source": [
        "#### Label Encoding: Pclass, Sex"
      ],
      "metadata": {
        "id": "Hq_IVTDmdFeZ"
      }
    },
    {
      "cell_type": "code",
      "source": [
        "from sklearn.preprocessing import LabelEncoder\n",
        "\n",
        "le_pclass = LabelEncoder()\n",
        "train['Pclass'] = le_pclass.fit_transform(train['Pclass'])\n",
        "test['Pclass'] = le_pclass.transform(test['Pclass'])\n",
        "\n",
        "le_sex = LabelEncoder()\n",
        "train['Sex'] = le_sex.fit_transform(train['Sex'])\n",
        "test['Sex'] = le_sex.transform(test['Sex'])"
      ],
      "metadata": {
        "id": "Cu0xpco2ZD9L"
      },
      "execution_count": null,
      "outputs": []
    },
    {
      "cell_type": "markdown",
      "source": [
        "#### One-Hot Encoding: Embarked, Title"
      ],
      "metadata": {
        "id": "00Em5qPFdP5s"
      }
    },
    {
      "cell_type": "code",
      "source": [
        "train = pd.get_dummies(train, columns=['Embarked', 'Title'], drop_first=False)\n",
        "test = pd.get_dummies(test, columns=['Embarked', 'Title'], drop_first=False)\n",
        "\n",
        "train = train.drop(columns=['Embarked_C', 'Title_Mr'])\n",
        "test = test.drop(columns=['Embarked_C', 'Title_Mr'])"
      ],
      "metadata": {
        "id": "N1FNEMNqZDnj"
      },
      "execution_count": null,
      "outputs": []
    },
    {
      "cell_type": "code",
      "source": [
        "# Family: 가족 구성원 수=형제/자매/배우자+부모/자녀+본인\n",
        "train['Family'] = train['SibSp'] + train['Parch'] + 1\n",
        "test['Family'] = test['SibSp'] + test['Parch'] + 1\n",
        "\n",
        "# Group: 티켓 번호 기반 일행 수 계산(본인 포함)\n",
        "train['Group'] = train.groupby('Ticket')['Ticket'].transform('count')\n",
        "test['Group'] = test.groupby('Ticket')['Ticket'].transform('count')\n",
        "\n",
        "# Total Group: Group, Family 중 max값\n",
        "train['Total_Group'] = train[['Group', 'Family']].max(axis=1)\n",
        "test['Total_Group'] = test[['Group', 'Family']].max(axis=1)"
      ],
      "metadata": {
        "id": "lNG_Jeu9kuyG"
      },
      "execution_count": null,
      "outputs": []
    },
    {
      "cell_type": "markdown",
      "source": [
        "### 다중공선성 확인(VIF)\n",
        "- VIF: Variance Inflation Factor.  \n",
        "- VIF 값이 높으면, 해당 변수와 다른 변수 간 강한 상관관계가 있음=다중공선성 문제가 있음.  \n",
        "- 일반적으로 VIF>5면 주의를 요하며 VIF>10이면 다중공선성 문제가 있다고 판단한다."
      ],
      "metadata": {
        "id": "7UCEAGRcpEVW"
      }
    },
    {
      "cell_type": "markdown",
      "source": [
        "#### 파생변수 미포함 VIF"
      ],
      "metadata": {
        "id": "yNQN4RsrzVo5"
      }
    },
    {
      "cell_type": "code",
      "source": [
        "import pandas as pd\n",
        "import statsmodels.api as sm\n",
        "from statsmodels.stats.outliers_influence import variance_inflation_factor\n",
        "\n",
        "numeric_vars = ['Pclass', 'Age', 'Fare', 'Sex', 'SibSp', 'Parch']\n",
        "dummy_vars = ['Embarked_Q', 'Embarked_S']"
      ],
      "metadata": {
        "id": "5YEEU5-NzeTS"
      },
      "execution_count": null,
      "outputs": []
    },
    {
      "cell_type": "code",
      "source": [
        "X_numeric = train[numeric_vars]\n",
        "X_categorical = train[dummy_vars]\n",
        "X = pd.concat([X_numeric, X_categorical], axis=1)\n",
        "\n",
        "X = sm.add_constant(X)\n",
        "\n",
        "X = X.astype(float)\n",
        "\n",
        "vif_data = pd.DataFrame()\n",
        "vif_data[\"Variable\"] = X.columns\n",
        "vif_data[\"VIF\"] = [variance_inflation_factor(X.values, i) for i in range(X.shape[1])]\n",
        "\n",
        "print(vif_data)"
      ],
      "metadata": {
        "colab": {
          "base_uri": "https://localhost:8080/"
        },
        "outputId": "0b712e37-1107-4b12-9338-5acc98014c9c",
        "id": "PP_IKq3DzeTS"
      },
      "execution_count": null,
      "outputs": [
        {
          "output_type": "stream",
          "name": "stdout",
          "text": [
            "     Variable        VIF\n",
            "0       const  62.299469\n",
            "1      Pclass   1.959940\n",
            "2         Age   1.325863\n",
            "3        Fare   2.264478\n",
            "4         Sex   1.138296\n",
            "5       SibSp   1.625697\n",
            "6       Parch   1.462771\n",
            "7  Embarked_Q   1.612870\n",
            "8  Embarked_S   1.531728\n"
          ]
        }
      ]
    },
    {
      "cell_type": "markdown",
      "source": [
        "#### 파생변수 포함 VIF"
      ],
      "metadata": {
        "id": "GmrmGvIQzaqB"
      }
    },
    {
      "cell_type": "code",
      "source": [
        "numeric_vars1 = ['Pclass', 'Age', 'Fare', 'Total_Group']\n",
        "dummy_vars1 = ['Embarked_Q', 'Embarked_S', 'Title_Master', 'Title_Woman', 'Title_prof']"
      ],
      "metadata": {
        "id": "KnDx1Nf4pBuc"
      },
      "execution_count": null,
      "outputs": []
    },
    {
      "cell_type": "code",
      "source": [
        "X_numeric = train[numeric_vars1]\n",
        "X_categorical = train[dummy_vars1]\n",
        "X = pd.concat([X_numeric, X_categorical], axis=1)\n",
        "\n",
        "X = sm.add_constant(X)\n",
        "\n",
        "X = X.astype(float)\n",
        "\n",
        "vif_data = pd.DataFrame()\n",
        "vif_data[\"Variable\"] = X.columns\n",
        "vif_data[\"VIF\"] = [variance_inflation_factor(X.values, i) for i in range(X.shape[1])]\n",
        "\n",
        "print(vif_data)"
      ],
      "metadata": {
        "colab": {
          "base_uri": "https://localhost:8080/"
        },
        "id": "TZsyB0e4kuG7",
        "outputId": "4afe328b-5140-4fb9-dd4c-a418d72f80fa"
      },
      "execution_count": null,
      "outputs": [
        {
          "output_type": "stream",
          "name": "stdout",
          "text": [
            "       Variable        VIF\n",
            "0         const  59.218580\n",
            "1        Pclass   2.098254\n",
            "2           Age   1.529449\n",
            "3          Fare   2.448665\n",
            "4   Total_Group   2.073662\n",
            "5    Embarked_Q   1.606859\n",
            "6    Embarked_S   1.536275\n",
            "7  Title_Master   1.510591\n",
            "8   Title_Woman   1.226504\n",
            "9    Title_prof   1.058518\n"
          ]
        }
      ]
    },
    {
      "cell_type": "markdown",
      "source": [
        "성별과 타이틀이 거의 같은 정보를 담고 있으므로, 성별도 드랍한다."
      ],
      "metadata": {
        "id": "8XxGJTiTwb8K"
      }
    },
    {
      "cell_type": "markdown",
      "source": [
        "### 피처 제거\n",
        "사용하지 않을 피처는 제거한다."
      ],
      "metadata": {
        "id": "gaPXAGuEvyC1"
      }
    },
    {
      "cell_type": "code",
      "source": [
        "train = train.drop(['PassengerId', 'Name', 'Ticket', 'SibSp', 'Parch', 'Family', 'Group'], axis=1)\n",
        "test = test.drop(['PassengerId', 'Name', 'Ticket', 'SibSp', 'Parch', 'Family', 'Group'], axis=1)"
      ],
      "metadata": {
        "id": "9EQIs65atPVj"
      },
      "execution_count": null,
      "outputs": []
    },
    {
      "cell_type": "code",
      "source": [
        "print(train.columns)\n",
        "print(test.columns)"
      ],
      "metadata": {
        "colab": {
          "base_uri": "https://localhost:8080/"
        },
        "id": "9-NR4mou_2an",
        "outputId": "6d7ce22c-34cf-449c-85b6-1b0495c114e8"
      },
      "execution_count": null,
      "outputs": [
        {
          "output_type": "stream",
          "name": "stdout",
          "text": [
            "Index(['Survived', 'Pclass', 'Sex', 'Age', 'Fare', 'Embarked_Q', 'Embarked_S',\n",
            "       'Title_Master', 'Title_Woman', 'Title_prof', 'Total_Group'],\n",
            "      dtype='object')\n",
            "Index(['Pclass', 'Sex', 'Age', 'Fare', 'Embarked_Q', 'Embarked_S',\n",
            "       'Title_Master', 'Title_Other', 'Title_Woman', 'Title_prof',\n",
            "       'Total_Group'],\n",
            "      dtype='object')\n"
          ]
        }
      ]
    },
    {
      "cell_type": "markdown",
      "source": [
        "# 스케일링"
      ],
      "metadata": {
        "id": "4OCHyhGDx-MS"
      }
    },
    {
      "cell_type": "code",
      "source": [
        "from sklearn.preprocessing import StandardScaler\n",
        "\n",
        "scaler = StandardScaler()\n",
        "train[['Age', 'Fare']] = scaler.fit_transform(train[['Age', 'Fare']])\n",
        "test[['Age', 'Fare']] = scaler.transform(test[['Age', 'Fare']])"
      ],
      "metadata": {
        "id": "HejvvburtNQ5"
      },
      "execution_count": null,
      "outputs": []
    },
    {
      "cell_type": "markdown",
      "source": [
        "스케일링의 경우에도 test 데이터를 fit 해서는 안됨 > train 데이터에 대해서만 fit 이후에 train 과 test set에 대해 transform\n",
        "머신러닝 딥러닝 모델이 학습을 하는 과정에서 어떠한 방식으로든 test set 데이터를 사용하게 되어서는 안됩니다.\n",
        "\n",
        "[방법]\n",
        "\n",
        "1. train / test(valid) split 먼저 수행\n",
        "2. train에 대해서 scaling 방법 학습\n",
        "3. scaling한 train 데이터를 이용하여 모델 학습\n",
        "4. train 데이터로 학습한 scaling 방법을 이용하여 test(valid) 데이터 scaling\n",
        "5. scaling한 test(valid) 데이터를 이용하여 모델 학습\n",
        "\n",
        "[참고](https://www.kaggle.com/code/hiejpaul/c-team-1#5.-%EB%8D%B0%EC%9D%B4%ED%84%B0-%EC%8A%A4%EC%BC%80%EC%9D%BC%EB%A7%81(Data-Scaling))"
      ],
      "metadata": {
        "id": "OM3FAZC3Td-o"
      }
    },
    {
      "cell_type": "markdown",
      "source": [
        "# 모델링"
      ],
      "metadata": {
        "id": "GSn7Fj8MzJjh"
      }
    },
    {
      "cell_type": "markdown",
      "source": [
        "## 교차검증\n",
        "교차검증을 하는 이유: 과적합을 피하기 위함.\n",
        "\n",
        "- 과대적합이란?: 학습 데이터에 과하게 적합한 상태여서 다른 데이터에서는 정확한 예측이 불가한 상태.\n",
        "- 과소적합이란?: 데이터가 부족하거나 데이터의 특성 자체가 너무 단순해서 기계가 제대로 학습이 되지 않은 상태.\n",
        "---\n",
        "- K-Fold: 집합을 체계적으로 바꿔가면서 모든 데이터에 대한 모델의 성과를 검증하는 방식.\n",
        "- Stratified K-Fold: 불균형한 데이터셋을 위한 K-Fold 방법.\n",
        "\n",
        "타이타닉 데이터셋은 Survived=1과 0의 비율이 불균형하므로, Stratified K-Fold가 더 적합할 것이다."
      ],
      "metadata": {
        "id": "uAVYZqwz7BVi"
      }
    },
    {
      "cell_type": "code",
      "source": [
        "from sklearn.model_selection import StratifiedKFold\n",
        "from sklearn.model_selection import cross_val_score\n",
        "from sklearn.ensemble import RandomForestClassifier\n",
        "from sklearn.model_selection import train_test_split\n",
        "\n",
        "selected_features = ['Pclass', 'Age', 'Fare', 'Total_Group', 'Embarked_Q', 'Embarked_S', 'Title_Master', 'Title_Woman', 'Title_prof']\n",
        "\n",
        "X = train[selected_features]\n",
        "y = train['Survived']"
      ],
      "metadata": {
        "id": "KAO2pk_w-cE0"
      },
      "execution_count": null,
      "outputs": []
    },
    {
      "cell_type": "code",
      "source": [
        "# Stratified K-Fold\n",
        "rf = RandomForestClassifier(random_state=42)\n",
        "\n",
        "skf = StratifiedKFold(n_splits=5, shuffle=True, random_state=42)\n",
        "\n",
        "cv_scores = cross_val_score(rf, X, y, cv=skf, scoring='accuracy')\n",
        "\n",
        "print(\"Stratified K-Fold 교차검증 점수: \", cv_scores)\n",
        "print(\"Stratified K-Fold 평균 교차검증 점수: \", cv_scores.mean())"
      ],
      "metadata": {
        "colab": {
          "base_uri": "https://localhost:8080/"
        },
        "id": "sMp0lJrbiywC",
        "outputId": "c75ba5aa-7c50-4bcc-953b-abfbee36eed5"
      },
      "execution_count": null,
      "outputs": [
        {
          "output_type": "stream",
          "name": "stdout",
          "text": [
            "Stratified K-Fold 교차검증 점수:  [0.78709677 0.80645161 0.83225806 0.8        0.81935484]\n",
            "Stratified K-Fold 평균 교차검증 점수:  0.8090322580645161\n"
          ]
        }
      ]
    },
    {
      "cell_type": "code",
      "source": [
        "# K-Fold\n",
        "from sklearn.model_selection import KFold\n",
        "\n",
        "kf = KFold(n_splits=5, shuffle=True, random_state=42)\n",
        "\n",
        "cv_scores = cross_val_score(rf, X, y, cv=kf, scoring='accuracy')\n",
        "\n",
        "print(\"K-Fold 교차검증 점수: \", cv_scores)\n",
        "print(\"K-Fold 평균 교차검증 점수: \", cv_scores.mean())"
      ],
      "metadata": {
        "colab": {
          "base_uri": "https://localhost:8080/"
        },
        "id": "qXd31aclkLVJ",
        "outputId": "7b2faf19-46ca-498c-8f2f-f2a5e257861c"
      },
      "execution_count": null,
      "outputs": [
        {
          "output_type": "stream",
          "name": "stdout",
          "text": [
            "K-Fold 교차검증 점수:  [0.77419355 0.78709677 0.82580645 0.8516129  0.80645161]\n",
            "K-Fold 평균 교차검증 점수:  0.8090322580645161\n"
          ]
        }
      ]
    },
    {
      "cell_type": "markdown",
      "source": [
        "## 모델 평가 지표\n",
        "\n",
        "<회귀모델 평가 지표>\n",
        "- MAE (평균 절대 오차) : 정답값과 예측값의 차이를 절댓값으로 변환한 뒤 합산해 평균을 구함. 특이값이 많은 경우에 주로 사용됨. 값이 낮을수록 좋음.\n",
        "- MSE (평균 제곱 오차) : 정답값과 예측값의 차이를 제곱한 뒤 평균을 구함. 가장 일반적/직관적. 값이 낮을수록 좋음.\n",
        "- RMSE (평균 제곱근 오차) : MSE에 루트를 씌운 값. 값이 낮을수록 좋음.\n",
        "- MAPE (평균 절대 비율 오차) : MAE를 비율, 퍼센트로 표현하여 스케일 의존적 문제를 개선.\n",
        "- MPE (평균 백분율 오차) : MAPE에서 절댓값을 제외한 지표.\n",
        "\n",
        "<분류모델 평가 지표>\n",
        "- 정확도(Accuracy) : 전체 데이터 중에 정확하게 예측한 데이터의 수. 불균형한 데이터의 경우에는 적합하지 않음.\n",
        "- 오차 행렬(Confusion Matrix) : 분류의 예측 범주와 실제 데이터의 분류 범주를 교차 표 형태로 정리한 행렬.\n",
        "- 정밀도(Precision) : 분류 모델이 positive로 판정한 것 중, 실제로 positive인 샘플의 비율. positive로 검출된 결과가 얼마나 정확한지 나타냄.\n",
        "- 재현율(Recall) : 실제 positive 샘플 중 분류 모델이 positive로 판정한 비율. 분류 모델이 실제 positive 클래스를 얼마나 빠지지 않고 잘 잡아내는지 측정함.\n",
        "- F1-score : 분류 모델의 Precision과 Recall 성능을 동시에 고려해 종합적 평가를 하기 위해해 사용하는 지표로, Precision과 Recall의 조화평균.\n",
        "- AUC - ROC : 실제 Negative label인 경우 중 모델이 positive로 예측한 비율.\n",
        "- Precision-recall curve : x축을 recall, y축을 precision으로 하는 커브.\n"
      ],
      "metadata": {
        "id": "2io91owzZPua"
      }
    },
    {
      "cell_type": "markdown",
      "source": [
        "## 모델 선택"
      ],
      "metadata": {
        "id": "Sb8BNI6N7EAd"
      }
    },
    {
      "cell_type": "code",
      "source": [
        "from sklearn.metrics import classification_report, accuracy_score\n",
        "from sklearn.model_selection import train_test_split\n",
        "\n",
        "selected_features = ['Pclass', 'Age', 'Fare', 'Total_Group', 'Embarked_Q', 'Embarked_S', 'Title_Master', 'Title_Woman', 'Title_prof']\n",
        "\n",
        "X = train[selected_features]\n",
        "y = train['Survived']\n",
        "\n",
        "X_train, X_valid, y_train, y_valid = train_test_split(X, y, test_size=0.3, random_state=42)"
      ],
      "metadata": {
        "id": "xbg1IU84lH_D"
      },
      "execution_count": null,
      "outputs": []
    },
    {
      "cell_type": "markdown",
      "source": [
        "### SL(지도학습)-분류\n"
      ],
      "metadata": {
        "id": "1Y8IKcdjYPhl"
      }
    },
    {
      "cell_type": "markdown",
      "source": [
        "#### Logistic Regression"
      ],
      "metadata": {
        "id": "TWg2-QQ7Xsit"
      }
    },
    {
      "cell_type": "code",
      "source": [
        "from sklearn.linear_model import LogisticRegression\n",
        "\n",
        "lr = LogisticRegression(max_iter=1000, random_state=42)\n",
        "lr.fit(X_train, y_train)\n",
        "\n",
        "y_pred = lr.predict(X_valid)\n",
        "print(\"Logistic Regression Accuracy:\", accuracy_score(y_valid, y_pred))\n",
        "print(classification_report(y_valid, y_pred))"
      ],
      "metadata": {
        "colab": {
          "base_uri": "https://localhost:8080/"
        },
        "id": "MMFlunlZ3JuK",
        "outputId": "50ac94b3-6267-4838-ebe6-dcc7da3f012c"
      },
      "execution_count": null,
      "outputs": [
        {
          "output_type": "stream",
          "name": "stdout",
          "text": [
            "Logistic Regression Accuracy: 0.7982832618025751\n",
            "              precision    recall  f1-score   support\n",
            "\n",
            "           0       0.82      0.87      0.85       151\n",
            "           1       0.74      0.66      0.70        82\n",
            "\n",
            "    accuracy                           0.80       233\n",
            "   macro avg       0.78      0.77      0.77       233\n",
            "weighted avg       0.79      0.80      0.80       233\n",
            "\n"
          ]
        }
      ]
    },
    {
      "cell_type": "markdown",
      "source": [
        "#### KNN"
      ],
      "metadata": {
        "id": "Zj7lmlhZYBOm"
      }
    },
    {
      "cell_type": "code",
      "source": [
        "from sklearn.neighbors import KNeighborsClassifier\n",
        "\n",
        "knn = KNeighborsClassifier(n_neighbors=5)\n",
        "knn.fit(X_train, y_train)\n",
        "\n",
        "y_pred = knn.predict(X_valid)\n",
        "print(\"KNN Accuracy:\", accuracy_score(y_valid, y_pred))\n",
        "print(classification_report(y_valid, y_pred))"
      ],
      "metadata": {
        "colab": {
          "base_uri": "https://localhost:8080/"
        },
        "id": "JdKsJSD13IdA",
        "outputId": "f874b80a-d17b-40ae-e924-253e9b6cbdb6"
      },
      "execution_count": null,
      "outputs": [
        {
          "output_type": "stream",
          "name": "stdout",
          "text": [
            "KNN Accuracy: 0.7639484978540773\n",
            "              precision    recall  f1-score   support\n",
            "\n",
            "           0       0.80      0.84      0.82       151\n",
            "           1       0.68      0.62      0.65        82\n",
            "\n",
            "    accuracy                           0.76       233\n",
            "   macro avg       0.74      0.73      0.74       233\n",
            "weighted avg       0.76      0.76      0.76       233\n",
            "\n"
          ]
        }
      ]
    },
    {
      "cell_type": "markdown",
      "source": [
        "#### SVC"
      ],
      "metadata": {
        "id": "5-ZBa4hdYKBv"
      }
    },
    {
      "cell_type": "code",
      "source": [
        "from sklearn.svm import SVC\n",
        "\n",
        "svc = SVC(kernel='rbf', probability=True, random_state=42)\n",
        "svc.fit(X_train, y_train)\n",
        "\n",
        "y_pred = svc.predict(X_valid)\n",
        "print(\"SVC Accuracy:\", accuracy_score(y_valid, y_pred))\n",
        "print(classification_report(y_valid, y_pred))"
      ],
      "metadata": {
        "colab": {
          "base_uri": "https://localhost:8080/"
        },
        "id": "_1ES75DeYIwc",
        "outputId": "93ac32f5-79b9-42da-f224-cf158eac5a2e"
      },
      "execution_count": null,
      "outputs": [
        {
          "output_type": "stream",
          "name": "stdout",
          "text": [
            "SVC Accuracy: 0.7982832618025751\n",
            "              precision    recall  f1-score   support\n",
            "\n",
            "           0       0.82      0.88      0.85       151\n",
            "           1       0.75      0.65      0.69        82\n",
            "\n",
            "    accuracy                           0.80       233\n",
            "   macro avg       0.78      0.76      0.77       233\n",
            "weighted avg       0.79      0.80      0.79       233\n",
            "\n"
          ]
        }
      ]
    },
    {
      "cell_type": "markdown",
      "source": [
        "#### Decision Tree"
      ],
      "metadata": {
        "id": "FWgjCy_PjRXL"
      }
    },
    {
      "cell_type": "code",
      "source": [
        "from sklearn.tree import DecisionTreeClassifier\n",
        "\n",
        "dt = DecisionTreeClassifier(random_state=42)\n",
        "dt.fit(X_train, y_train)\n",
        "\n",
        "y_pred = dt.predict(X_valid)\n",
        "print(\"Decision Tree Accuracy:\", accuracy_score(y_valid, y_pred))\n",
        "print(classification_report(y_valid, y_pred))"
      ],
      "metadata": {
        "colab": {
          "base_uri": "https://localhost:8080/"
        },
        "id": "CMRnn4syjRDy",
        "outputId": "b6a2d6a9-4a79-450f-e901-2c9a229f007e"
      },
      "execution_count": null,
      "outputs": [
        {
          "output_type": "stream",
          "name": "stdout",
          "text": [
            "Decision Tree Accuracy: 0.759656652360515\n",
            "              precision    recall  f1-score   support\n",
            "\n",
            "           0       0.82      0.81      0.81       151\n",
            "           1       0.65      0.67      0.66        82\n",
            "\n",
            "    accuracy                           0.76       233\n",
            "   macro avg       0.74      0.74      0.74       233\n",
            "weighted avg       0.76      0.76      0.76       233\n",
            "\n"
          ]
        }
      ]
    },
    {
      "cell_type": "markdown",
      "source": [
        "### 앙상블"
      ],
      "metadata": {
        "id": "ywLioucYYmRw"
      }
    },
    {
      "cell_type": "markdown",
      "source": [
        "#### 스태킹: Stacking Classifier"
      ],
      "metadata": {
        "id": "TshSd1CnY0Od"
      }
    },
    {
      "cell_type": "code",
      "source": [
        "from sklearn.ensemble import StackingClassifier\n",
        "from sklearn.ensemble import RandomForestClassifier, GradientBoostingClassifier\n",
        "from sklearn.linear_model import LogisticRegression\n",
        "\n",
        "# rf, gbm 스태킹함\n",
        "base_models = [\n",
        "    ('rf', RandomForestClassifier(n_estimators=100, random_state=42)),\n",
        "    ('gbm', GradientBoostingClassifier(n_estimators=100, random_state=42))\n",
        "]\n",
        "final_model = LogisticRegression(max_iter=1000, random_state=42)\n",
        "\n",
        "st = StackingClassifier(estimators=base_models, final_estimator=final_model)\n",
        "st.fit(X_train, y_train)\n",
        "\n",
        "y_pred = st.predict(X_valid)\n",
        "print(\"Stacking Classifier Accuracy:\", accuracy_score(y_valid, y_pred))\n",
        "print(classification_report(y_valid, y_pred))"
      ],
      "metadata": {
        "colab": {
          "base_uri": "https://localhost:8080/"
        },
        "id": "cFBuFcw4jKxH",
        "outputId": "4a520de4-7ead-4847-b447-15bbbefe882b"
      },
      "execution_count": null,
      "outputs": [
        {
          "output_type": "stream",
          "name": "stdout",
          "text": [
            "Stacking Classifier Accuracy: 0.8240343347639485\n",
            "              precision    recall  f1-score   support\n",
            "\n",
            "           0       0.83      0.92      0.87       151\n",
            "           1       0.82      0.65      0.72        82\n",
            "\n",
            "    accuracy                           0.82       233\n",
            "   macro avg       0.82      0.78      0.80       233\n",
            "weighted avg       0.82      0.82      0.82       233\n",
            "\n"
          ]
        }
      ]
    },
    {
      "cell_type": "markdown",
      "source": [
        "#### 배깅: RandomForest"
      ],
      "metadata": {
        "id": "UXTnULqnjBQB"
      }
    },
    {
      "cell_type": "code",
      "source": [
        "from sklearn.ensemble import RandomForestClassifier\n",
        "\n",
        "rf = RandomForestClassifier(n_estimators=100, random_state=42)\n",
        "rf.fit(X_train, y_train)\n",
        "\n",
        "y_pred = rf.predict(X_valid)\n",
        "print(\"Random Forest Accuracy:\", accuracy_score(y_valid, y_pred))\n",
        "print(classification_report(y_valid, y_pred))"
      ],
      "metadata": {
        "colab": {
          "base_uri": "https://localhost:8080/"
        },
        "id": "tx7b7kLHnSuM",
        "outputId": "37ff4fb5-6ab7-43fe-b3e6-085bb5a2fa74"
      },
      "execution_count": null,
      "outputs": [
        {
          "output_type": "stream",
          "name": "stdout",
          "text": [
            "Random Forest Accuracy: 0.7939914163090128\n",
            "              precision    recall  f1-score   support\n",
            "\n",
            "           0       0.82      0.88      0.85       151\n",
            "           1       0.74      0.63      0.68        82\n",
            "\n",
            "    accuracy                           0.79       233\n",
            "   macro avg       0.78      0.76      0.77       233\n",
            "weighted avg       0.79      0.79      0.79       233\n",
            "\n"
          ]
        }
      ]
    },
    {
      "cell_type": "markdown",
      "source": [
        "#### 부스팅"
      ],
      "metadata": {
        "id": "HSO8LjGWj7AH"
      }
    },
    {
      "cell_type": "markdown",
      "source": [
        "##### GBM"
      ],
      "metadata": {
        "id": "iaPcX6LkZIAh"
      }
    },
    {
      "cell_type": "code",
      "source": [
        "from sklearn.ensemble import GradientBoostingClassifier\n",
        "\n",
        "gbm = GradientBoostingClassifier(n_estimators=100, random_state=42)\n",
        "gbm.fit(X_train, y_train)\n",
        "\n",
        "y_pred = gbm.predict(X_valid)\n",
        "print(\"GBM Accuracy:\", accuracy_score(y_valid, y_pred))\n",
        "print(classification_report(y_valid, y_pred))"
      ],
      "metadata": {
        "colab": {
          "base_uri": "https://localhost:8080/"
        },
        "id": "j-gOtanjZHR1",
        "outputId": "89a0b96d-a946-431e-cb25-be703b17b5b4"
      },
      "execution_count": null,
      "outputs": [
        {
          "output_type": "stream",
          "name": "stdout",
          "text": [
            "GBM Accuracy: 0.8154506437768241\n",
            "              precision    recall  f1-score   support\n",
            "\n",
            "           0       0.83      0.89      0.86       151\n",
            "           1       0.77      0.67      0.72        82\n",
            "\n",
            "    accuracy                           0.82       233\n",
            "   macro avg       0.80      0.78      0.79       233\n",
            "weighted avg       0.81      0.82      0.81       233\n",
            "\n"
          ]
        }
      ]
    },
    {
      "cell_type": "markdown",
      "source": [
        "##### XGBoost"
      ],
      "metadata": {
        "id": "OJYM85wlX6d-"
      }
    },
    {
      "cell_type": "code",
      "source": [
        "from xgboost import XGBClassifier\n",
        "\n",
        "xgb = XGBClassifier(n_estimators=100, random_state=42, use_label_encoder=False, eval_metric='logloss')\n",
        "xgb.fit(X_train, y_train)\n",
        "\n",
        "y_pred = xgb.predict(X_valid)\n",
        "print(\"XGBoost Accuracy:\", accuracy_score(y_valid, y_pred))\n",
        "print(classification_report(y_valid, y_pred))"
      ],
      "metadata": {
        "colab": {
          "base_uri": "https://localhost:8080/"
        },
        "id": "fvJ7fniW3JUc",
        "outputId": "dee7159f-2e9a-4f45-df16-b16e12f37809"
      },
      "execution_count": null,
      "outputs": [
        {
          "output_type": "stream",
          "name": "stdout",
          "text": [
            "XGBoost Accuracy: 0.8454935622317596\n",
            "              precision    recall  f1-score   support\n",
            "\n",
            "           0       0.84      0.93      0.89       151\n",
            "           1       0.85      0.68      0.76        82\n",
            "\n",
            "    accuracy                           0.85       233\n",
            "   macro avg       0.85      0.81      0.82       233\n",
            "weighted avg       0.85      0.85      0.84       233\n",
            "\n"
          ]
        }
      ]
    },
    {
      "cell_type": "markdown",
      "source": [
        "##### LightGBM"
      ],
      "metadata": {
        "id": "XTqYP_ilX8Sp"
      }
    },
    {
      "cell_type": "code",
      "source": [
        "from lightgbm import LGBMClassifier\n",
        "\n",
        "lgbm = LGBMClassifier(n_estimators=100, random_state=42)\n",
        "lgbm.fit(X_train, y_train)\n",
        "\n",
        "y_pred = lgbm.predict(X_valid)\n",
        "print(\"LightGBM Accuracy:\", accuracy_score(y_valid, y_pred))\n",
        "print(classification_report(y_valid, y_pred))"
      ],
      "metadata": {
        "colab": {
          "base_uri": "https://localhost:8080/"
        },
        "id": "ikahhrss3JF0",
        "outputId": "6600fe7f-6971-4c65-fb8b-adc8ae74070f"
      },
      "execution_count": null,
      "outputs": [
        {
          "output_type": "stream",
          "name": "stdout",
          "text": [
            "[LightGBM] [Info] Number of positive: 181, number of negative: 361\n",
            "[LightGBM] [Info] Auto-choosing row-wise multi-threading, the overhead of testing was 0.000078 seconds.\n",
            "You can set `force_row_wise=true` to remove the overhead.\n",
            "And if memory is not enough, you can set `force_col_wise=true`.\n",
            "[LightGBM] [Info] Total Bins 166\n",
            "[LightGBM] [Info] Number of data points in the train set: 542, number of used features: 8\n",
            "[LightGBM] [Info] [binary:BoostFromScore]: pavg=0.333948 -> initscore=-0.690381\n",
            "[LightGBM] [Info] Start training from score -0.690381\n",
            "[LightGBM] [Warning] No further splits with positive gain, best gain: -inf\n",
            "[LightGBM] [Warning] No further splits with positive gain, best gain: -inf\n",
            "[LightGBM] [Warning] No further splits with positive gain, best gain: -inf\n",
            "[LightGBM] [Warning] No further splits with positive gain, best gain: -inf\n",
            "[LightGBM] [Warning] No further splits with positive gain, best gain: -inf\n",
            "[LightGBM] [Warning] No further splits with positive gain, best gain: -inf\n",
            "[LightGBM] [Warning] No further splits with positive gain, best gain: -inf\n",
            "[LightGBM] [Warning] No further splits with positive gain, best gain: -inf\n",
            "[LightGBM] [Warning] No further splits with positive gain, best gain: -inf\n",
            "[LightGBM] [Warning] No further splits with positive gain, best gain: -inf\n",
            "[LightGBM] [Warning] No further splits with positive gain, best gain: -inf\n",
            "[LightGBM] [Warning] No further splits with positive gain, best gain: -inf\n",
            "[LightGBM] [Warning] No further splits with positive gain, best gain: -inf\n",
            "[LightGBM] [Warning] No further splits with positive gain, best gain: -inf\n",
            "[LightGBM] [Warning] No further splits with positive gain, best gain: -inf\n",
            "[LightGBM] [Warning] No further splits with positive gain, best gain: -inf\n",
            "[LightGBM] [Warning] No further splits with positive gain, best gain: -inf\n",
            "[LightGBM] [Warning] No further splits with positive gain, best gain: -inf\n",
            "[LightGBM] [Warning] No further splits with positive gain, best gain: -inf\n",
            "[LightGBM] [Warning] No further splits with positive gain, best gain: -inf\n",
            "[LightGBM] [Warning] No further splits with positive gain, best gain: -inf\n",
            "[LightGBM] [Warning] No further splits with positive gain, best gain: -inf\n",
            "[LightGBM] [Warning] No further splits with positive gain, best gain: -inf\n",
            "[LightGBM] [Warning] No further splits with positive gain, best gain: -inf\n",
            "[LightGBM] [Warning] No further splits with positive gain, best gain: -inf\n",
            "[LightGBM] [Warning] No further splits with positive gain, best gain: -inf\n",
            "[LightGBM] [Warning] No further splits with positive gain, best gain: -inf\n",
            "[LightGBM] [Warning] No further splits with positive gain, best gain: -inf\n",
            "[LightGBM] [Warning] No further splits with positive gain, best gain: -inf\n",
            "[LightGBM] [Warning] No further splits with positive gain, best gain: -inf\n",
            "[LightGBM] [Warning] No further splits with positive gain, best gain: -inf\n",
            "[LightGBM] [Warning] No further splits with positive gain, best gain: -inf\n",
            "[LightGBM] [Warning] No further splits with positive gain, best gain: -inf\n",
            "[LightGBM] [Warning] No further splits with positive gain, best gain: -inf\n",
            "[LightGBM] [Warning] No further splits with positive gain, best gain: -inf\n",
            "[LightGBM] [Warning] No further splits with positive gain, best gain: -inf\n",
            "[LightGBM] [Warning] No further splits with positive gain, best gain: -inf\n",
            "[LightGBM] [Warning] No further splits with positive gain, best gain: -inf\n",
            "[LightGBM] [Warning] No further splits with positive gain, best gain: -inf\n",
            "[LightGBM] [Warning] No further splits with positive gain, best gain: -inf\n",
            "[LightGBM] [Warning] No further splits with positive gain, best gain: -inf\n",
            "[LightGBM] [Warning] No further splits with positive gain, best gain: -inf\n",
            "[LightGBM] [Warning] No further splits with positive gain, best gain: -inf\n",
            "[LightGBM] [Warning] No further splits with positive gain, best gain: -inf\n",
            "[LightGBM] [Warning] No further splits with positive gain, best gain: -inf\n",
            "[LightGBM] [Warning] No further splits with positive gain, best gain: -inf\n",
            "[LightGBM] [Warning] No further splits with positive gain, best gain: -inf\n",
            "[LightGBM] [Warning] No further splits with positive gain, best gain: -inf\n",
            "[LightGBM] [Warning] No further splits with positive gain, best gain: -inf\n",
            "[LightGBM] [Warning] No further splits with positive gain, best gain: -inf\n",
            "[LightGBM] [Warning] No further splits with positive gain, best gain: -inf\n",
            "[LightGBM] [Warning] No further splits with positive gain, best gain: -inf\n",
            "[LightGBM] [Warning] No further splits with positive gain, best gain: -inf\n",
            "[LightGBM] [Warning] No further splits with positive gain, best gain: -inf\n",
            "[LightGBM] [Warning] No further splits with positive gain, best gain: -inf\n",
            "[LightGBM] [Warning] No further splits with positive gain, best gain: -inf\n",
            "[LightGBM] [Warning] No further splits with positive gain, best gain: -inf\n",
            "[LightGBM] [Warning] No further splits with positive gain, best gain: -inf\n",
            "[LightGBM] [Warning] No further splits with positive gain, best gain: -inf\n",
            "[LightGBM] [Warning] No further splits with positive gain, best gain: -inf\n",
            "[LightGBM] [Warning] No further splits with positive gain, best gain: -inf\n",
            "[LightGBM] [Warning] No further splits with positive gain, best gain: -inf\n",
            "[LightGBM] [Warning] No further splits with positive gain, best gain: -inf\n",
            "[LightGBM] [Warning] No further splits with positive gain, best gain: -inf\n",
            "[LightGBM] [Warning] No further splits with positive gain, best gain: -inf\n",
            "[LightGBM] [Warning] No further splits with positive gain, best gain: -inf\n",
            "[LightGBM] [Warning] No further splits with positive gain, best gain: -inf\n",
            "[LightGBM] [Warning] No further splits with positive gain, best gain: -inf\n",
            "[LightGBM] [Warning] No further splits with positive gain, best gain: -inf\n",
            "[LightGBM] [Warning] No further splits with positive gain, best gain: -inf\n",
            "[LightGBM] [Warning] No further splits with positive gain, best gain: -inf\n",
            "[LightGBM] [Warning] No further splits with positive gain, best gain: -inf\n",
            "[LightGBM] [Warning] No further splits with positive gain, best gain: -inf\n",
            "[LightGBM] [Warning] No further splits with positive gain, best gain: -inf\n",
            "[LightGBM] [Warning] No further splits with positive gain, best gain: -inf\n",
            "[LightGBM] [Warning] No further splits with positive gain, best gain: -inf\n",
            "[LightGBM] [Warning] No further splits with positive gain, best gain: -inf\n",
            "[LightGBM] [Warning] No further splits with positive gain, best gain: -inf\n",
            "[LightGBM] [Warning] No further splits with positive gain, best gain: -inf\n",
            "[LightGBM] [Warning] No further splits with positive gain, best gain: -inf\n",
            "[LightGBM] [Warning] No further splits with positive gain, best gain: -inf\n",
            "[LightGBM] [Warning] No further splits with positive gain, best gain: -inf\n",
            "[LightGBM] [Warning] No further splits with positive gain, best gain: -inf\n",
            "[LightGBM] [Warning] No further splits with positive gain, best gain: -inf\n",
            "[LightGBM] [Warning] No further splits with positive gain, best gain: -inf\n",
            "[LightGBM] [Warning] No further splits with positive gain, best gain: -inf\n",
            "[LightGBM] [Warning] No further splits with positive gain, best gain: -inf\n",
            "[LightGBM] [Warning] No further splits with positive gain, best gain: -inf\n",
            "[LightGBM] [Warning] No further splits with positive gain, best gain: -inf\n",
            "[LightGBM] [Warning] No further splits with positive gain, best gain: -inf\n",
            "[LightGBM] [Warning] No further splits with positive gain, best gain: -inf\n",
            "[LightGBM] [Warning] No further splits with positive gain, best gain: -inf\n",
            "[LightGBM] [Warning] No further splits with positive gain, best gain: -inf\n",
            "[LightGBM] [Warning] No further splits with positive gain, best gain: -inf\n",
            "[LightGBM] [Warning] No further splits with positive gain, best gain: -inf\n",
            "[LightGBM] [Warning] No further splits with positive gain, best gain: -inf\n",
            "[LightGBM] [Warning] No further splits with positive gain, best gain: -inf\n",
            "[LightGBM] [Warning] No further splits with positive gain, best gain: -inf\n",
            "[LightGBM] [Warning] No further splits with positive gain, best gain: -inf\n",
            "[LightGBM] [Warning] No further splits with positive gain, best gain: -inf\n",
            "LightGBM Accuracy: 0.8283261802575107\n",
            "              precision    recall  f1-score   support\n",
            "\n",
            "           0       0.84      0.91      0.87       151\n",
            "           1       0.80      0.68      0.74        82\n",
            "\n",
            "    accuracy                           0.83       233\n",
            "   macro avg       0.82      0.80      0.80       233\n",
            "weighted avg       0.83      0.83      0.82       233\n",
            "\n"
          ]
        }
      ]
    },
    {
      "cell_type": "markdown",
      "source": [
        "##### CatBoost"
      ],
      "metadata": {
        "id": "T6YLCAjvX-yM"
      }
    },
    {
      "cell_type": "code",
      "source": [
        "pip install CatBoost"
      ],
      "metadata": {
        "colab": {
          "base_uri": "https://localhost:8080/"
        },
        "id": "5sI1IvGMnhmQ",
        "outputId": "255858e6-a951-455b-f202-03d513457ac8"
      },
      "execution_count": null,
      "outputs": [
        {
          "output_type": "stream",
          "name": "stdout",
          "text": [
            "Requirement already satisfied: CatBoost in /usr/local/lib/python3.11/dist-packages (1.2.7)\n",
            "Requirement already satisfied: graphviz in /usr/local/lib/python3.11/dist-packages (from CatBoost) (0.20.3)\n",
            "Requirement already satisfied: matplotlib in /usr/local/lib/python3.11/dist-packages (from CatBoost) (3.10.0)\n",
            "Requirement already satisfied: numpy<2.0,>=1.16.0 in /usr/local/lib/python3.11/dist-packages (from CatBoost) (1.26.4)\n",
            "Requirement already satisfied: pandas>=0.24 in /usr/local/lib/python3.11/dist-packages (from CatBoost) (2.2.2)\n",
            "Requirement already satisfied: scipy in /usr/local/lib/python3.11/dist-packages (from CatBoost) (1.13.1)\n",
            "Requirement already satisfied: plotly in /usr/local/lib/python3.11/dist-packages (from CatBoost) (5.24.1)\n",
            "Requirement already satisfied: six in /usr/local/lib/python3.11/dist-packages (from CatBoost) (1.17.0)\n",
            "Requirement already satisfied: python-dateutil>=2.8.2 in /usr/local/lib/python3.11/dist-packages (from pandas>=0.24->CatBoost) (2.8.2)\n",
            "Requirement already satisfied: pytz>=2020.1 in /usr/local/lib/python3.11/dist-packages (from pandas>=0.24->CatBoost) (2025.1)\n",
            "Requirement already satisfied: tzdata>=2022.7 in /usr/local/lib/python3.11/dist-packages (from pandas>=0.24->CatBoost) (2025.1)\n",
            "Requirement already satisfied: contourpy>=1.0.1 in /usr/local/lib/python3.11/dist-packages (from matplotlib->CatBoost) (1.3.1)\n",
            "Requirement already satisfied: cycler>=0.10 in /usr/local/lib/python3.11/dist-packages (from matplotlib->CatBoost) (0.12.1)\n",
            "Requirement already satisfied: fonttools>=4.22.0 in /usr/local/lib/python3.11/dist-packages (from matplotlib->CatBoost) (4.56.0)\n",
            "Requirement already satisfied: kiwisolver>=1.3.1 in /usr/local/lib/python3.11/dist-packages (from matplotlib->CatBoost) (1.4.8)\n",
            "Requirement already satisfied: packaging>=20.0 in /usr/local/lib/python3.11/dist-packages (from matplotlib->CatBoost) (24.2)\n",
            "Requirement already satisfied: pillow>=8 in /usr/local/lib/python3.11/dist-packages (from matplotlib->CatBoost) (11.1.0)\n",
            "Requirement already satisfied: pyparsing>=2.3.1 in /usr/local/lib/python3.11/dist-packages (from matplotlib->CatBoost) (3.2.1)\n",
            "Requirement already satisfied: tenacity>=6.2.0 in /usr/local/lib/python3.11/dist-packages (from plotly->CatBoost) (9.0.0)\n"
          ]
        }
      ]
    },
    {
      "cell_type": "code",
      "source": [
        "from catboost import CatBoostClassifier\n",
        "\n",
        "cat = CatBoostClassifier(iterations=100, random_state=42, verbose=0)\n",
        "cat.fit(X_train, y_train)\n",
        "\n",
        "y_pred = cat.predict(X_valid)\n",
        "print(\"CatBoost Accuracy:\", accuracy_score(y_valid, y_pred))\n",
        "print(classification_report(y_valid, y_pred))"
      ],
      "metadata": {
        "colab": {
          "base_uri": "https://localhost:8080/"
        },
        "id": "-EfUPCOA3IsD",
        "outputId": "da2e19a7-18f5-464a-afbb-c475f790bbae"
      },
      "execution_count": null,
      "outputs": [
        {
          "output_type": "stream",
          "name": "stdout",
          "text": [
            "CatBoost Accuracy: 0.8111587982832618\n",
            "              precision    recall  f1-score   support\n",
            "\n",
            "           0       0.83      0.89      0.86       151\n",
            "           1       0.76      0.67      0.71        82\n",
            "\n",
            "    accuracy                           0.81       233\n",
            "   macro avg       0.80      0.78      0.79       233\n",
            "weighted avg       0.81      0.81      0.81       233\n",
            "\n"
          ]
        }
      ]
    },
    {
      "cell_type": "markdown",
      "source": [
        "##### AdaBoost"
      ],
      "metadata": {
        "id": "Qk14o56gYqHA"
      }
    },
    {
      "cell_type": "code",
      "source": [
        "from sklearn.ensemble import AdaBoostClassifier\n",
        "\n",
        "ada = AdaBoostClassifier(n_estimators=100, random_state=42)\n",
        "ada.fit(X_train, y_train)\n",
        "\n",
        "y_pred = ada.predict(X_valid)\n",
        "print(\"AdaBoost Accuracy:\", accuracy_score(y_valid, y_pred))\n",
        "print(classification_report(y_valid, y_pred))"
      ],
      "metadata": {
        "colab": {
          "base_uri": "https://localhost:8080/"
        },
        "id": "Ds131uHWYIWt",
        "outputId": "271b1f53-c55e-486d-edb0-07bc3a532106"
      },
      "execution_count": null,
      "outputs": [
        {
          "output_type": "stream",
          "name": "stdout",
          "text": [
            "AdaBoost Accuracy: 0.8111587982832618\n",
            "              precision    recall  f1-score   support\n",
            "\n",
            "           0       0.83      0.89      0.86       151\n",
            "           1       0.76      0.67      0.71        82\n",
            "\n",
            "    accuracy                           0.81       233\n",
            "   macro avg       0.80      0.78      0.79       233\n",
            "weighted avg       0.81      0.81      0.81       233\n",
            "\n"
          ]
        }
      ]
    },
    {
      "cell_type": "markdown",
      "source": [
        "## 과적합 방지: 정규화(Regulation)\n",
        "- L1 정규화(Lasso): 설명력에 기여하지 못하는 독립변수의 회귀계수를 0으로 만듦\n",
        "- L2 정규화(Ridge): 모델의 설명력에 기여하지 못하는 독립변수의 회귀계수 크기를 0에 근접하도록 축소\n",
        "- 엘라스틱 넷(Elastic Net): 릿지와 라쏘의 결합. 즉 L1-norm 과 L2-norm을 모두 이용하여 패널티를 부과하여 회귀모델을 생성."
      ],
      "metadata": {
        "id": "oY9iIpPfZSsH"
      }
    },
    {
      "cell_type": "code",
      "source": [
        "from sklearn.linear_model import RidgeClassifier, Lasso"
      ],
      "metadata": {
        "id": "KDa4DVNOYISa"
      },
      "execution_count": null,
      "outputs": []
    },
    {
      "cell_type": "markdown",
      "source": [
        "### L1 정규화(Lasso)"
      ],
      "metadata": {
        "id": "zwezQn--onMl"
      }
    },
    {
      "cell_type": "code",
      "source": [
        "# L1 정규화 적용 (Lasso)\n",
        "lasso = LogisticRegression(penalty='l1', solver='liblinear', max_iter=1000, random_state=42)\n",
        "lasso.fit(X_train, y_train)\n",
        "\n",
        "y_pred = lasso.predict(X_valid)\n",
        "print(\"L1-Regularized Logistic Regression Accuracy:\", accuracy_score(y_valid, y_pred))\n",
        "print(classification_report(y_valid, y_pred))"
      ],
      "metadata": {
        "colab": {
          "base_uri": "https://localhost:8080/"
        },
        "id": "m14neYHToikn",
        "outputId": "79cba782-16eb-41ca-c530-aaf3d1d4e37d"
      },
      "execution_count": null,
      "outputs": [
        {
          "output_type": "stream",
          "name": "stdout",
          "text": [
            "L1-Regularized Logistic Regression Accuracy: 0.7982832618025751\n",
            "              precision    recall  f1-score   support\n",
            "\n",
            "           0       0.82      0.87      0.85       151\n",
            "           1       0.74      0.66      0.70        82\n",
            "\n",
            "    accuracy                           0.80       233\n",
            "   macro avg       0.78      0.77      0.77       233\n",
            "weighted avg       0.79      0.80      0.80       233\n",
            "\n"
          ]
        }
      ]
    },
    {
      "cell_type": "markdown",
      "source": [
        "### L2 정규화(Ridge)"
      ],
      "metadata": {
        "id": "Xw03Vtldosqo"
      }
    },
    {
      "cell_type": "code",
      "source": [
        "# L2 정규화 적용 (Ridge)\n",
        "ridge = LogisticRegression(penalty='l2', solver='liblinear', max_iter=1000, random_state=42)\n",
        "ridge.fit(X_train, y_train)\n",
        "\n",
        "y_pred = ridge.predict(X_valid)\n",
        "print(\"L2-Regularized Logistic Regression Accuracy:\", accuracy_score(y_valid, y_pred))\n",
        "print(classification_report(y_valid, y_pred))"
      ],
      "metadata": {
        "colab": {
          "base_uri": "https://localhost:8080/"
        },
        "id": "whCPK1r_Y5bP",
        "outputId": "bee91189-b427-44fb-8ffd-942330ca5bc8"
      },
      "execution_count": null,
      "outputs": [
        {
          "output_type": "stream",
          "name": "stdout",
          "text": [
            "L2-Regularized Logistic Regression Accuracy: 0.8025751072961373\n",
            "              precision    recall  f1-score   support\n",
            "\n",
            "           0       0.83      0.88      0.85       151\n",
            "           1       0.75      0.66      0.70        82\n",
            "\n",
            "    accuracy                           0.80       233\n",
            "   macro avg       0.79      0.77      0.78       233\n",
            "weighted avg       0.80      0.80      0.80       233\n",
            "\n"
          ]
        }
      ]
    },
    {
      "cell_type": "markdown",
      "source": [
        "### Elastic Net(L1+L2)"
      ],
      "metadata": {
        "id": "k-BxQEiZo3AX"
      }
    },
    {
      "cell_type": "code",
      "source": [
        "# Elastic Net (L1 + L2 정규화) 적용\n",
        "en = LogisticRegression(penalty='elasticnet', solver='saga', l1_ratio=0.5, max_iter=1000, random_state=42)\n",
        "en.fit(X_train, y_train)\n",
        "\n",
        "y_pred = en.predict(X_valid)\n",
        "print(\"Elastic Net Logistic Regression Accuracy:\", accuracy_score(y_valid, y_pred))\n",
        "print(classification_report(y_valid, y_pred))"
      ],
      "metadata": {
        "colab": {
          "base_uri": "https://localhost:8080/"
        },
        "id": "eZOXhrvTo2nw",
        "outputId": "ff949f8a-3ea2-4db4-a78e-976a025cd669"
      },
      "execution_count": null,
      "outputs": [
        {
          "output_type": "stream",
          "name": "stdout",
          "text": [
            "Elastic Net Logistic Regression Accuracy: 0.7939914163090128\n",
            "              precision    recall  f1-score   support\n",
            "\n",
            "           0       0.82      0.87      0.85       151\n",
            "           1       0.73      0.66      0.69        82\n",
            "\n",
            "    accuracy                           0.79       233\n",
            "   macro avg       0.78      0.76      0.77       233\n",
            "weighted avg       0.79      0.79      0.79       233\n",
            "\n"
          ]
        }
      ]
    },
    {
      "cell_type": "markdown",
      "source": [
        "## 모델 성능 개선"
      ],
      "metadata": {
        "id": "oJZWjGqaZWkG"
      }
    },
    {
      "cell_type": "code",
      "source": [
        "# 캐글 타이타닉 평가지표: Accuracy\n",
        "print('모델별 Accuracy 비교')\n",
        "print(\"lr: \", accuracy_score(y_valid, lr.predict(X_valid)))\n",
        "print(\"knn: \", accuracy_score(y_valid, knn.predict(X_valid)))\n",
        "print(\"svc: \", accuracy_score(y_valid, svc.predict(X_valid)))\n",
        "print(\"dt: \", accuracy_score(y_valid, dt.predict(X_valid)))\n",
        "print(\"st: \", accuracy_score(y_valid, st.predict(X_valid)))\n",
        "print(\"rf: \", accuracy_score(y_valid, rf.predict(X_valid)))\n",
        "print(\"gbm: \", accuracy_score(y_valid, gbm.predict(X_valid)))\n",
        "print(\"xgb: \", accuracy_score(y_valid, xgb.predict(X_valid)))\n",
        "print(\"lgbm: \", accuracy_score(y_valid, lgbm.predict(X_valid)))\n",
        "print(\"cat: \", accuracy_score(y_valid, cat.predict(X_valid)))\n",
        "print(\"ada: \", accuracy_score(y_valid, ada.predict(X_valid)))\n",
        "print(\"ridge\", accuracy_score(y_valid, ridge.predict(X_valid)))\n",
        "print(\"lasso\", accuracy_score(y_valid, lasso.predict(X_valid)))\n",
        "print(\"en\", accuracy_score(y_valid, en.predict(X_valid)))"
      ],
      "metadata": {
        "colab": {
          "base_uri": "https://localhost:8080/"
        },
        "id": "t_CqIKhkY5S4",
        "outputId": "c9328976-44a1-43e0-d85e-e7ff88309ecd"
      },
      "execution_count": null,
      "outputs": [
        {
          "output_type": "stream",
          "name": "stdout",
          "text": [
            "모델별 Accuracy 비교\n",
            "lr:  0.7982832618025751\n",
            "knn:  0.7639484978540773\n",
            "svc:  0.7982832618025751\n",
            "dt:  0.759656652360515\n",
            "st:  0.8240343347639485\n",
            "rf:  0.7939914163090128\n",
            "gbm:  0.8154506437768241\n",
            "xgb:  0.8454935622317596\n",
            "lgbm:  0.8283261802575107\n",
            "cat:  0.8111587982832618\n",
            "ada:  0.8111587982832618\n",
            "ridge 0.8025751072961373\n",
            "lasso 0.7982832618025751\n",
            "en 0.7939914163090128\n"
          ]
        }
      ]
    },
    {
      "cell_type": "code",
      "source": [
        "import matplotlib.pyplot as plt\n",
        "import seaborn as sns\n",
        "\n",
        "# 모델별 Accuracy를 저장할 딕셔너리 생성\n",
        "accuracy_results = {\n",
        "    \"Logistic Regression\": accuracy_score(y_valid, lr.predict(X_valid)),\n",
        "    \"KNN\": accuracy_score(y_valid, knn.predict(X_valid)),\n",
        "    \"SVC\": accuracy_score(y_valid, svc.predict(X_valid)),\n",
        "    \"Decision Tree\": accuracy_score(y_valid, dt.predict(X_valid)),\n",
        "    \"Stacking\": accuracy_score(y_valid, st.predict(X_valid)),\n",
        "    \"Random Forest\": accuracy_score(y_valid, rf.predict(X_valid)),\n",
        "    \"GBM\": accuracy_score(y_valid, gbm.predict(X_valid)),\n",
        "    \"XGBoost\": accuracy_score(y_valid, xgb.predict(X_valid)),\n",
        "    \"LightGBM\": accuracy_score(y_valid, lgbm.predict(X_valid)),\n",
        "    \"CatBoost\": accuracy_score(y_valid, cat.predict(X_valid)),\n",
        "    \"AdaBoost\": accuracy_score(y_valid, ada.predict(X_valid)),\n",
        "    \"Lasso (L1)\": accuracy_score(y_valid, lasso.predict(X_valid)),\n",
        "    \"Ridge (L2)\": accuracy_score(y_valid, ridge.predict(X_valid)),\n",
        "    \"Elastic Net\": accuracy_score(y_valid, en.predict(X_valid))\n",
        "}\n",
        "\n",
        "accuracy_df = pd.DataFrame(accuracy_results.items(), columns=[\"Model\", \"Accuracy\"])\n",
        "accuracy_df = accuracy_df.sort_values(by=\"Accuracy\", ascending=False)\n",
        "\n",
        "sns.barplot(data=accuracy_df, x=\"Model\", y=\"Accuracy\", palette=\"mako\")\n",
        "plt.xticks(rotation=45, ha=\"right\")"
      ],
      "metadata": {
        "colab": {
          "base_uri": "https://localhost:8080/",
          "height": 799
        },
        "id": "BOp88Mg1ZbvG",
        "outputId": "62d01072-284d-482d-a5b8-cba53f907955"
      },
      "execution_count": null,
      "outputs": [
        {
          "output_type": "execute_result",
          "data": {
            "text/plain": [
              "([0, 1, 2, 3, 4, 5, 6, 7, 8, 9, 10, 11, 12, 13],\n",
              " [Text(0, 0, 'XGBoost'),\n",
              "  Text(1, 0, 'LightGBM'),\n",
              "  Text(2, 0, 'Stacking'),\n",
              "  Text(3, 0, 'GBM'),\n",
              "  Text(4, 0, 'CatBoost'),\n",
              "  Text(5, 0, 'AdaBoost'),\n",
              "  Text(6, 0, 'Ridge (L2)'),\n",
              "  Text(7, 0, 'Logistic Regression'),\n",
              "  Text(8, 0, 'SVC'),\n",
              "  Text(9, 0, 'Lasso (L1)'),\n",
              "  Text(10, 0, 'Random Forest'),\n",
              "  Text(11, 0, 'Elastic Net'),\n",
              "  Text(12, 0, 'KNN'),\n",
              "  Text(13, 0, 'Decision Tree')])"
            ]
          },
          "metadata": {},
          "execution_count": 170
        },
        {
          "output_type": "display_data",
          "data": {
            "text/plain": [
              "<Figure size 640x480 with 1 Axes>"
            ],
            "image/png": "[encoded data removed]"
          },
          "metadata": {}
        }
      ]
    },
    {
      "cell_type": "markdown",
      "source": [
        "### GBM 교차검증\n",
        "Stratified K-Fold, k=5"
      ],
      "metadata": {
        "id": "T6QCudbEvHpj"
      }
    },
    {
      "cell_type": "code",
      "source": [
        "kf = StratifiedKFold(n_splits=5, shuffle=True, random_state=42)\n",
        "gbm_model = GradientBoostingClassifier(n_estimators=100, random_state=42)\n",
        "cv_scores = cross_val_score(gbm_model, X, y, cv=kf, scoring='accuracy')\n",
        "\n",
        "print(cv_scores)\n",
        "print(cv_scores.mean())"
      ],
      "metadata": {
        "colab": {
          "base_uri": "https://localhost:8080/"
        },
        "id": "WG_dHwwxZbnT",
        "outputId": "f2197b5c-e429-463d-f110-dcea39510be0"
      },
      "execution_count": null,
      "outputs": [
        {
          "output_type": "stream",
          "name": "stdout",
          "text": [
            "[0.8        0.8        0.80645161 0.80645161 0.84516129]\n",
            "0.8116129032258066\n"
          ]
        }
      ]
    },
    {
      "cell_type": "code",
      "source": [
        "X.columns"
      ],
      "metadata": {
        "colab": {
          "base_uri": "https://localhost:8080/"
        },
        "id": "BzTFEJFHvSe0",
        "outputId": "21218a66-b931-4eb7-d558-5a21f53bc93a"
      },
      "execution_count": null,
      "outputs": [
        {
          "output_type": "execute_result",
          "data": {
            "text/plain": [
              "Index(['Pclass', 'Age', 'Fare', 'Total_Group', 'Embarked_Q', 'Embarked_S',\n",
              "       'Title_Master', 'Title_Woman', 'Title_prof'],\n",
              "      dtype='object')"
            ]
          },
          "metadata": {},
          "execution_count": 104
        }
      ]
    },
    {
      "cell_type": "markdown",
      "source": [
        "### 하이퍼파라미터 튜닝"
      ],
      "metadata": {
        "id": "FottCCHNZcoH"
      }
    },
    {
      "cell_type": "markdown",
      "source": [
        "#### Grid Search\n",
        "- 가능한 모든 조합의 하이퍼파라미터로 훈련시켜서 최적의 조합을 찾음.\n",
        "- 범위를 지정해주어야 함.\n",
        "- 모든 하이퍼파라미터 후보들에 대한 일반화 성능을 확인하기 때문에 시간이 오래 걸림."
      ],
      "metadata": {
        "id": "JlCQ2DWov9mS"
      }
    },
    {
      "cell_type": "code",
      "source": [
        "from sklearn.model_selection import GridSearchCV\n",
        "\n",
        "param_grid = {\n",
        "    'learning_rate': [0.01, 0.05, 0.1, 0.2],  # 학습률\n",
        "    'n_estimators': [100, 200, 300, 400],  # 트리 개수\n",
        "    'max_depth': [3, 5, 7]  # 트리 깊이\n",
        "}\n",
        "# 하이퍼파라미터가 너무 많으면 최적 조합 찾는 데 오래 걸림, 중요한 파라미터만 설정.\n",
        "# 목적에 따라 파라미터 추가 가능\n",
        "\n",
        "gbm = GradientBoostingClassifier(random_state=42)\n",
        "\n",
        "grid_search = GridSearchCV(estimator=gbm, param_grid=param_grid, cv=5, scoring='accuracy', n_jobs=-1, verbose=2)\n",
        "grid_search.fit(X_train, y_train)\n",
        "\n",
        "print(\"최적 하이퍼파라미터:\", grid_search.best_params_)\n",
        "print(\"최고 교차 검증 정확도:\", grid_search.best_score_)"
      ],
      "metadata": {
        "colab": {
          "base_uri": "https://localhost:8080/"
        },
        "id": "SfmpTg4RZbgz",
        "outputId": "000f3225-93f1-4a6e-b95d-4bd4afee0d3a"
      },
      "execution_count": null,
      "outputs": [
        {
          "output_type": "stream",
          "name": "stdout",
          "text": [
            "Fitting 5 folds for each of 48 candidates, totalling 240 fits\n",
            "최적 하이퍼파라미터: {'learning_rate': 0.05, 'max_depth': 3, 'n_estimators': 400}\n",
            "최고 교차 검증 정확도: 0.846774193548387\n"
          ]
        }
      ]
    },
    {
      "cell_type": "code",
      "source": [
        "# 최적 하이퍼파라미터 적용해 다시 학습하기\n",
        "best_gbm_grid = GradientBoostingClassifier(**grid_search.best_params_, random_state=42)\n",
        "best_gbm_grid.fit(X_train, y_train)\n",
        "\n",
        "y_pred = best_gbm_grid.predict(X_valid)\n",
        "print(\"Grid Search-GBM accuracy:\", accuracy_score(y_valid, y_pred))\n",
        "print(classification_report(y_valid, y_pred))"
      ],
      "metadata": {
        "colab": {
          "base_uri": "https://localhost:8080/"
        },
        "id": "d6ZPKKnbZbX6",
        "outputId": "d16d06a4-3754-42e0-c0b6-da9c676891d6"
      },
      "execution_count": null,
      "outputs": [
        {
          "output_type": "stream",
          "name": "stdout",
          "text": [
            "Grid Search-GBM accuracy: 0.8193548387096774\n",
            "              precision    recall  f1-score   support\n",
            "\n",
            "           0       0.81      0.93      0.86        95\n",
            "           1       0.85      0.65      0.74        60\n",
            "\n",
            "    accuracy                           0.82       155\n",
            "   macro avg       0.83      0.79      0.80       155\n",
            "weighted avg       0.82      0.82      0.81       155\n",
            "\n"
          ]
        }
      ]
    },
    {
      "cell_type": "markdown",
      "source": [
        "#### Random Search\n",
        "- 경계 내에서 임의의 조합을 추출하여 최적의 조합을 찾는 방법, 빠름.\n",
        "- 특히 적은 수의 하이퍼파라미터가 모델 성능의 영향을 미치는 경우에 좋은 결과를 낸다.\n",
        "- GridSearch에 비해 시간은 적게 걸리지만, 말 그대로 \"랜덤\"하게 몇 개만 뽑아서 확인해보는 식이라 정확도가 다소 떨어질 수 있음."
      ],
      "metadata": {
        "id": "82oU9Ty7wOrz"
      }
    },
    {
      "cell_type": "code",
      "source": [
        "from sklearn.model_selection import RandomizedSearchCV\n",
        "\n",
        "param_dist = {\n",
        "    'learning_rate': np.linspace(0.01, 0.2, 10),\n",
        "    'n_estimators': np.arange(100, 500, 50),\n",
        "    'max_depth': np.arange(3, 10, 2)\n",
        "}\n",
        "\n",
        "gbm = GradientBoostingClassifier(random_state=42)\n",
        "\n",
        "random_search = RandomizedSearchCV(estimator=gbm, param_distributions=param_dist,\n",
        "                                   n_iter=30, cv=5, scoring='accuracy',\n",
        "                                   n_jobs=-1, verbose=2, random_state=42)\n",
        "random_search.fit(X_train, y_train)\n",
        "\n",
        "print(\"최적 하이퍼파라미터:\", random_search.best_params_)\n",
        "print(\"최고 교차 검증 정확도:\", random_search.best_score_)"
      ],
      "metadata": {
        "colab": {
          "base_uri": "https://localhost:8080/"
        },
        "id": "Zbxe24yyZbNP",
        "outputId": "57057b59-616c-40d6-d065-0e2c11b9833a"
      },
      "execution_count": null,
      "outputs": [
        {
          "output_type": "stream",
          "name": "stdout",
          "text": [
            "Fitting 5 folds for each of 30 candidates, totalling 150 fits\n",
            "최적 하이퍼파라미터: {'n_estimators': 200, 'max_depth': 5, 'learning_rate': 0.03111111111111111}\n",
            "최고 교차 검증 정확도: 0.8435483870967742\n"
          ]
        }
      ]
    },
    {
      "cell_type": "code",
      "source": [
        "# 최적 하이퍼파라미터 적용해 다시 학습하기\n",
        "best_gbm_random = GradientBoostingClassifier(**random_search.best_params_, random_state=42)\n",
        "best_gbm_random.fit(X_train, y_train)\n",
        "\n",
        "y_pred = best_gbm_random.predict(X_valid)\n",
        "print(\"Random Search-GBM accuracy:\", accuracy_score(y_valid, y_pred))\n",
        "print(classification_report(y_valid, y_pred))"
      ],
      "metadata": {
        "colab": {
          "base_uri": "https://localhost:8080/"
        },
        "id": "IGQur3TVyde_",
        "outputId": "9ad13c26-201d-4525-abfb-de8e71e285da"
      },
      "execution_count": null,
      "outputs": [
        {
          "output_type": "stream",
          "name": "stdout",
          "text": [
            "Random Search-GBM accuracy: 0.8\n",
            "              precision    recall  f1-score   support\n",
            "\n",
            "           0       0.80      0.89      0.85        95\n",
            "           1       0.80      0.65      0.72        60\n",
            "\n",
            "    accuracy                           0.80       155\n",
            "   macro avg       0.80      0.77      0.78       155\n",
            "weighted avg       0.80      0.80      0.80       155\n",
            "\n"
          ]
        }
      ]
    },
    {
      "cell_type": "markdown",
      "source": [
        "#### Bayesian Optimization\n",
        "- 목적함수와 하이퍼파라미터의 조합을 대상으로 Surrogate model을 만들어 평가하고 Acquisition Function이 다음 인풋으로 사용할 조합을 추천하는 과정을 반복하면서 순차적으로 업데이트하여 최적의 조합을 찾아낸다.\n",
        "- 사전 정보를 최적값 탐색에 반영."
      ],
      "metadata": {
        "id": "L5mbV9iWwRqZ"
      }
    },
    {
      "cell_type": "code",
      "source": [
        "pip install optuna"
      ],
      "metadata": {
        "colab": {
          "base_uri": "https://localhost:8080/"
        },
        "id": "qqnpfvzu0mRj",
        "outputId": "ecf0ca84-d1e3-423c-ebed-af51b69894bf"
      },
      "execution_count": null,
      "outputs": [
        {
          "output_type": "stream",
          "name": "stdout",
          "text": [
            "Requirement already satisfied: optuna in /usr/local/lib/python3.11/dist-packages (4.2.1)\n",
            "Requirement already satisfied: alembic>=1.5.0 in /usr/local/lib/python3.11/dist-packages (from optuna) (1.14.1)\n",
            "Requirement already satisfied: colorlog in /usr/local/lib/python3.11/dist-packages (from optuna) (6.9.0)\n",
            "Requirement already satisfied: numpy in /usr/local/lib/python3.11/dist-packages (from optuna) (1.26.4)\n",
            "Requirement already satisfied: packaging>=20.0 in /usr/local/lib/python3.11/dist-packages (from optuna) (24.2)\n",
            "Requirement already satisfied: sqlalchemy>=1.4.2 in /usr/local/lib/python3.11/dist-packages (from optuna) (2.0.38)\n",
            "Requirement already satisfied: tqdm in /usr/local/lib/python3.11/dist-packages (from optuna) (4.67.1)\n",
            "Requirement already satisfied: PyYAML in /usr/local/lib/python3.11/dist-packages (from optuna) (6.0.2)\n",
            "Requirement already satisfied: Mako in /usr/local/lib/python3.11/dist-packages (from alembic>=1.5.0->optuna) (1.3.9)\n",
            "Requirement already satisfied: typing-extensions>=4 in /usr/local/lib/python3.11/dist-packages (from alembic>=1.5.0->optuna) (4.12.2)\n",
            "Requirement already satisfied: greenlet!=0.4.17 in /usr/local/lib/python3.11/dist-packages (from sqlalchemy>=1.4.2->optuna) (3.1.1)\n",
            "Requirement already satisfied: MarkupSafe>=0.9.2 in /usr/local/lib/python3.11/dist-packages (from Mako->alembic>=1.5.0->optuna) (3.0.2)\n"
          ]
        }
      ]
    },
    {
      "cell_type": "code",
      "source": [
        "import optuna # Optuna 라이브러리 사용해 베이지안 최적화 사용하기\n",
        "from sklearn.ensemble import GradientBoostingClassifier\n",
        "from sklearn.model_selection import cross_val_score\n",
        "\n",
        "def objective(trial):\n",
        "    learning_rate = trial.suggest_loguniform('learning_rate', 0.01, 0.2)\n",
        "    n_estimators = trial.suggest_int('n_estimators', 100, 500)\n",
        "    max_depth = trial.suggest_int('max_depth', 3, 10)\n",
        "\n",
        "    gbm = GradientBoostingClassifier(\n",
        "        learning_rate=learning_rate,\n",
        "        n_estimators=n_estimators,\n",
        "        max_depth=max_depth,\n",
        "        random_state=42\n",
        "    )\n",
        "\n",
        "    score = cross_val_score(gbm, X_train, y_train, cv=5, scoring='accuracy', n_jobs=-1)\n",
        "    return score.mean()\n",
        "\n",
        "study = optuna.create_study(direction='maximize')\n",
        "study.optimize(objective, n_trials=30)\n",
        "\n",
        "print(\"최적 하이퍼파라미터:\", study.best_params)\n",
        "print(\"최고 교차 검증 정확도:\", study.best_value)"
      ],
      "metadata": {
        "colab": {
          "base_uri": "https://localhost:8080/"
        },
        "id": "IS7hRpIoz_Ua",
        "outputId": "43666900-7e25-4092-960a-bedf119add3a"
      },
      "execution_count": null,
      "outputs": [
        {
          "output_type": "stream",
          "name": "stderr",
          "text": [
            "[I 2025-03-02 06:02:45,642] A new study created in memory with name: no-name-3fe02bf6-f0b1-4953-b311-4efc8fcb6854\n",
            "[I 2025-03-02 06:02:47,364] Trial 0 finished with value: 0.835483870967742 and parameters: {'learning_rate': 0.03171234040744999, 'n_estimators': 289, 'max_depth': 3}. Best is trial 0 with value: 0.835483870967742.\n",
            "[I 2025-03-02 06:03:05,797] Trial 1 finished with value: 0.8032258064516128 and parameters: {'learning_rate': 0.08420345030609709, 'n_estimators': 293, 'max_depth': 10}. Best is trial 0 with value: 0.835483870967742.\n",
            "[I 2025-03-02 06:03:23,093] Trial 2 finished with value: 0.8048387096774194 and parameters: {'learning_rate': 0.040954905480423076, 'n_estimators': 329, 'max_depth': 9}. Best is trial 0 with value: 0.835483870967742.\n",
            "[I 2025-03-02 06:03:32,015] Trial 3 finished with value: 0.835483870967742 and parameters: {'learning_rate': 0.010905858810141899, 'n_estimators': 420, 'max_depth': 6}. Best is trial 0 with value: 0.835483870967742.\n",
            "[I 2025-03-02 06:03:34,645] Trial 4 finished with value: 0.8387096774193548 and parameters: {'learning_rate': 0.023972367929192336, 'n_estimators': 468, 'max_depth': 3}. Best is trial 4 with value: 0.8387096774193548.\n",
            "[I 2025-03-02 06:03:36,019] Trial 5 finished with value: 0.817741935483871 and parameters: {'learning_rate': 0.168240330189338, 'n_estimators': 227, 'max_depth': 4}. Best is trial 4 with value: 0.8387096774193548.\n",
            "[I 2025-03-02 06:03:37,899] Trial 6 finished with value: 0.8435483870967742 and parameters: {'learning_rate': 0.02594456821745968, 'n_estimators': 231, 'max_depth': 5}. Best is trial 6 with value: 0.8435483870967742.\n",
            "[I 2025-03-02 06:03:43,163] Trial 7 finished with value: 0.8193548387096774 and parameters: {'learning_rate': 0.07288838190144889, 'n_estimators': 273, 'max_depth': 7}. Best is trial 6 with value: 0.8435483870967742.\n",
            "[I 2025-03-02 06:03:45,131] Trial 8 finished with value: 0.8338709677419354 and parameters: {'learning_rate': 0.022770251920138276, 'n_estimators': 176, 'max_depth': 6}. Best is trial 6 with value: 0.8435483870967742.\n",
            "[I 2025-03-02 06:03:55,836] Trial 9 finished with value: 0.8 and parameters: {'learning_rate': 0.0649178644634541, 'n_estimators': 322, 'max_depth': 10}. Best is trial 6 with value: 0.8435483870967742.\n",
            "[I 2025-03-02 06:03:56,757] Trial 10 finished with value: 0.8290322580645162 and parameters: {'learning_rate': 0.013101030452825345, 'n_estimators': 104, 'max_depth': 5}. Best is trial 6 with value: 0.8435483870967742.\n",
            "[I 2025-03-02 06:03:59,159] Trial 11 finished with value: 0.8370967741935484 and parameters: {'learning_rate': 0.02088660319189478, 'n_estimators': 496, 'max_depth': 3}. Best is trial 6 with value: 0.8435483870967742.\n",
            "[I 2025-03-02 06:04:01,643] Trial 12 finished with value: 0.8419354838709678 and parameters: {'learning_rate': 0.018891074517798874, 'n_estimators': 410, 'max_depth': 4}. Best is trial 6 with value: 0.8435483870967742.\n",
            "[I 2025-03-02 06:04:05,204] Trial 13 finished with value: 0.853225806451613 and parameters: {'learning_rate': 0.015667388522149786, 'n_estimators': 398, 'max_depth': 5}. Best is trial 13 with value: 0.853225806451613.\n",
            "[I 2025-03-02 06:04:11,468] Trial 14 finished with value: 0.8193548387096774 and parameters: {'learning_rate': 0.014758509890090511, 'n_estimators': 394, 'max_depth': 7}. Best is trial 13 with value: 0.853225806451613.\n",
            "[I 2025-03-02 06:04:13,162] Trial 15 finished with value: 0.8306451612903226 and parameters: {'learning_rate': 0.03910759675346644, 'n_estimators': 212, 'max_depth': 5}. Best is trial 13 with value: 0.853225806451613.\n",
            "[I 2025-03-02 06:04:21,316] Trial 16 finished with value: 0.8096774193548388 and parameters: {'learning_rate': 0.02916798895370511, 'n_estimators': 364, 'max_depth': 8}. Best is trial 13 with value: 0.853225806451613.\n",
            "[I 2025-03-02 06:04:22,404] Trial 17 finished with value: 0.835483870967742 and parameters: {'learning_rate': 0.015614130315864543, 'n_estimators': 124, 'max_depth': 5}. Best is trial 13 with value: 0.853225806451613.\n",
            "[I 2025-03-02 06:04:23,894] Trial 18 finished with value: 0.8274193548387097 and parameters: {'learning_rate': 0.010523295064952295, 'n_estimators': 242, 'max_depth': 4}. Best is trial 13 with value: 0.853225806451613.\n",
            "[I 2025-03-02 06:04:25,788] Trial 19 finished with value: 0.8209677419354838 and parameters: {'learning_rate': 0.1142082173231312, 'n_estimators': 163, 'max_depth': 6}. Best is trial 13 with value: 0.853225806451613.\n",
            "[I 2025-03-02 06:04:35,568] Trial 20 finished with value: 0.8032258064516128 and parameters: {'learning_rate': 0.0585343271806391, 'n_estimators': 363, 'max_depth': 8}. Best is trial 13 with value: 0.853225806451613.\n",
            "[I 2025-03-02 06:04:38,149] Trial 21 finished with value: 0.8370967741935484 and parameters: {'learning_rate': 0.018148568373706958, 'n_estimators': 427, 'max_depth': 4}. Best is trial 13 with value: 0.853225806451613.\n",
            "[I 2025-03-02 06:04:41,702] Trial 22 finished with value: 0.8274193548387097 and parameters: {'learning_rate': 0.028921917279131865, 'n_estimators': 435, 'max_depth': 5}. Best is trial 13 with value: 0.853225806451613.\n",
            "[I 2025-03-02 06:04:44,938] Trial 23 finished with value: 0.8387096774193548 and parameters: {'learning_rate': 0.017933488654892506, 'n_estimators': 380, 'max_depth': 4}. Best is trial 13 with value: 0.853225806451613.\n",
            "[I 2025-03-02 06:04:47,965] Trial 24 finished with value: 0.8306451612903226 and parameters: {'learning_rate': 0.034469146517712164, 'n_estimators': 335, 'max_depth': 5}. Best is trial 13 with value: 0.853225806451613.\n",
            "[I 2025-03-02 06:04:49,498] Trial 25 finished with value: 0.8370967741935484 and parameters: {'learning_rate': 0.04791366702215347, 'n_estimators': 252, 'max_depth': 4}. Best is trial 13 with value: 0.853225806451613.\n",
            "[I 2025-03-02 06:04:54,798] Trial 26 finished with value: 0.8258064516129032 and parameters: {'learning_rate': 0.024450151974378047, 'n_estimators': 469, 'max_depth': 6}. Best is trial 13 with value: 0.853225806451613.\n",
            "[I 2025-03-02 06:04:59,017] Trial 27 finished with value: 0.8419354838709676 and parameters: {'learning_rate': 0.01805699853855164, 'n_estimators': 401, 'max_depth': 5}. Best is trial 13 with value: 0.853225806451613.\n",
            "[I 2025-03-02 06:04:59,986] Trial 28 finished with value: 0.8274193548387097 and parameters: {'learning_rate': 0.012575128244882428, 'n_estimators': 203, 'max_depth': 3}. Best is trial 13 with value: 0.853225806451613.\n",
            "[I 2025-03-02 06:05:04,239] Trial 29 finished with value: 0.8096774193548388 and parameters: {'learning_rate': 0.027963084201883794, 'n_estimators': 284, 'max_depth': 7}. Best is trial 13 with value: 0.853225806451613.\n"
          ]
        },
        {
          "output_type": "stream",
          "name": "stdout",
          "text": [
            "최적 하이퍼파라미터: {'learning_rate': 0.015667388522149786, 'n_estimators': 398, 'max_depth': 5}\n",
            "최고 교차 검증 정확도: 0.853225806451613\n"
          ]
        }
      ]
    },
    {
      "cell_type": "code",
      "source": [
        "best_gbm_bay = GradientBoostingClassifier(**study.best_params, random_state=42)\n",
        "\n",
        "best_gbm_bay.fit(X_train, y_train)\n",
        "\n",
        "y_pred = best_gbm_bay.predict(X_valid)\n",
        "print(\"Bayesian-GBM accuracy:\", accuracy_score(y_valid, y_pred))\n",
        "print(classification_report(y_valid, y_pred))"
      ],
      "metadata": {
        "colab": {
          "base_uri": "https://localhost:8080/"
        },
        "id": "z46xzzuKz_Nr",
        "outputId": "9fa27dcf-108c-4854-b2c4-ad8e4e240390"
      },
      "execution_count": null,
      "outputs": [
        {
          "output_type": "stream",
          "name": "stdout",
          "text": [
            "Bayesian-GBM accuracy: 0.8129032258064516\n",
            "              precision    recall  f1-score   support\n",
            "\n",
            "           0       0.81      0.91      0.86        95\n",
            "           1       0.82      0.67      0.73        60\n",
            "\n",
            "    accuracy                           0.81       155\n",
            "   macro avg       0.81      0.79      0.79       155\n",
            "weighted avg       0.81      0.81      0.81       155\n",
            "\n"
          ]
        }
      ]
    },
    {
      "cell_type": "markdown",
      "source": [
        "# Test 예측"
      ],
      "metadata": {
        "id": "7kqDdy0QbNqK"
      }
    },
    {
      "cell_type": "markdown",
      "source": [
        "## GBM\n",
        "- 분할 비율 8:2\n",
        "- Public Score: 0.75119"
      ],
      "metadata": {
        "id": "gx0mQk5MgwT_"
      }
    },
    {
      "cell_type": "code",
      "source": [
        "X_test = test[X_train.columns]\n",
        "y_test_pred = best_gbm_grid.predict(X_test)\n",
        "\n",
        "# 기존 submission 파일 수정하여 저장\n",
        "submission_path = \"/content/data/MyDrive/titanic/titanic/asset/result/submission.csv\"\n",
        "submit = pd.read_csv(submission_path)\n",
        "\n",
        "submit[\"Survived\"] = y_test_pred\n",
        "\n",
        "# 수정된 파일을 다시 저장\n",
        "submit.to_csv(submission_path, index=False)"
      ],
      "metadata": {
        "id": "RgcrIOEXbQ3b"
      },
      "execution_count": null,
      "outputs": []
    },
    {
      "cell_type": "code",
      "source": [
        "submit"
      ],
      "metadata": {
        "colab": {
          "base_uri": "https://localhost:8080/",
          "height": 424
        },
        "id": "tUjUy6EreEki",
        "outputId": "6b2d550b-5912-4674-af88-afbf3fcc25d7"
      },
      "execution_count": null,
      "outputs": [
        {
          "output_type": "execute_result",
          "data": {
            "text/plain": [
              "     PassengerId  Survived\n",
              "0            892         0\n",
              "1            893         0\n",
              "2            894         0\n",
              "3            895         0\n",
              "4            896         0\n",
              "..           ...       ...\n",
              "413         1305         0\n",
              "414         1306         0\n",
              "415         1307         0\n",
              "416         1308         0\n",
              "417         1309         1\n",
              "\n",
              "[418 rows x 2 columns]"
            ],
            "text/html": [
              "\n",
              "  <div id=\"df-16fae8c8-ce72-41e6-be20-9f7a6ebeb99d\" class=\"colab-df-container\">\n",
              "    <div>\n",
              "<style scoped>\n",
              "    .dataframe tbody tr th:only-of-type {\n",
              "        vertical-align: middle;\n",
              "    }\n",
              "\n",
              "    .dataframe tbody tr th {\n",
              "        vertical-align: top;\n",
              "    }\n",
              "\n",
              "    .dataframe thead th {\n",
              "        text-align: right;\n",
              "    }\n",
              "</style>\n",
              "<table border=\"1\" class=\"dataframe\">\n",
              "  <thead>\n",
              "    <tr style=\"text-align: right;\">\n",
              "      <th></th>\n",
              "      <th>PassengerId</th>\n",
              "      <th>Survived</th>\n",
              "    </tr>\n",
              "  </thead>\n",
              "  <tbody>\n",
              "    <tr>\n",
              "      <th>0</th>\n",
              "      <td>892</td>\n",
              "      <td>0</td>\n",
              "    </tr>\n",
              "    <tr>\n",
              "      <th>1</th>\n",
              "      <td>893</td>\n",
              "      <td>0</td>\n",
              "    </tr>\n",
              "    <tr>\n",
              "      <th>2</th>\n",
              "      <td>894</td>\n",
              "      <td>0</td>\n",
              "    </tr>\n",
              "    <tr>\n",
              "      <th>3</th>\n",
              "      <td>895</td>\n",
              "      <td>0</td>\n",
              "    </tr>\n",
              "    <tr>\n",
              "      <th>4</th>\n",
              "      <td>896</td>\n",
              "      <td>0</td>\n",
              "    </tr>\n",
              "    <tr>\n",
              "      <th>...</th>\n",
              "      <td>...</td>\n",
              "      <td>...</td>\n",
              "    </tr>\n",
              "    <tr>\n",
              "      <th>413</th>\n",
              "      <td>1305</td>\n",
              "      <td>0</td>\n",
              "    </tr>\n",
              "    <tr>\n",
              "      <th>414</th>\n",
              "      <td>1306</td>\n",
              "      <td>0</td>\n",
              "    </tr>\n",
              "    <tr>\n",
              "      <th>415</th>\n",
              "      <td>1307</td>\n",
              "      <td>0</td>\n",
              "    </tr>\n",
              "    <tr>\n",
              "      <th>416</th>\n",
              "      <td>1308</td>\n",
              "      <td>0</td>\n",
              "    </tr>\n",
              "    <tr>\n",
              "      <th>417</th>\n",
              "      <td>1309</td>\n",
              "      <td>1</td>\n",
              "    </tr>\n",
              "  </tbody>\n",
              "</table>\n",
              "<p>418 rows × 2 columns</p>\n",
              "</div>\n",
              "    <div class=\"colab-df-buttons\">\n",
              "\n",
              "  <div class=\"colab-df-container\">\n",
              "    <button class=\"colab-df-convert\" onclick=\"convertToInteractive('df-16fae8c8-ce72-41e6-be20-9f7a6ebeb99d')\"\n",
              "            title=\"Convert this dataframe to an interactive table.\"\n",
              "            style=\"display:none;\">\n",
              "\n",
              "  <svg xmlns=\"http://www.w3.org/2000/svg\" height=\"24px\" viewBox=\"0 -960 960 960\">\n",
              "    <path d=\"M120-120v-720h720v720H120Zm60-500h600v-160H180v160Zm220 220h160v-160H400v160Zm0 220h160v-160H400v160ZM180-400h160v-160H180v160Zm440 0h160v-160H620v160ZM180-180h160v-160H180v160Zm440 0h160v-160H620v160Z\"/>\n",
              "  </svg>\n",
              "    </button>\n",
              "\n",
              "  <style>\n",
              "    .colab-df-container {\n",
              "      display:flex;\n",
              "      gap: 12px;\n",
              "    }\n",
              "\n",
              "    .colab-df-convert {\n",
              "      background-color: #E8F0FE;\n",
              "      border: none;\n",
              "      border-radius: 50%;\n",
              "      cursor: pointer;\n",
              "      display: none;\n",
              "      fill: #1967D2;\n",
              "      height: 32px;\n",
              "      padding: 0 0 0 0;\n",
              "      width: 32px;\n",
              "    }\n",
              "\n",
              "    .colab-df-convert:hover {\n",
              "      background-color: #E2EBFA;\n",
              "      box-shadow: 0px 1px 2px rgba(60, 64, 67, 0.3), 0px 1px 3px 1px rgba(60, 64, 67, 0.15);\n",
              "      fill: #174EA6;\n",
              "    }\n",
              "\n",
              "    .colab-df-buttons div {\n",
              "      margin-bottom: 4px;\n",
              "    }\n",
              "\n",
              "    [theme=dark] .colab-df-convert {\n",
              "      background-color: #3B4455;\n",
              "      fill: #D2E3FC;\n",
              "    }\n",
              "\n",
              "    [theme=dark] .colab-df-convert:hover {\n",
              "      background-color: #434B5C;\n",
              "      box-shadow: 0px 1px 3px 1px rgba(0, 0, 0, 0.15);\n",
              "      filter: drop-shadow(0px 1px 2px rgba(0, 0, 0, 0.3));\n",
              "      fill: #FFFFFF;\n",
              "    }\n",
              "  </style>\n",
              "\n",
              "    <script>\n",
              "      const buttonEl =\n",
              "        document.querySelector('#df-16fae8c8-ce72-41e6-be20-9f7a6ebeb99d button.colab-df-convert');\n",
              "      buttonEl.style.display =\n",
              "        google.colab.kernel.accessAllowed ? 'block' : 'none';\n",
              "\n",
              "      async function convertToInteractive(key) {\n",
              "        const element = document.querySelector('#df-16fae8c8-ce72-41e6-be20-9f7a6ebeb99d');\n",
              "        const dataTable =\n",
              "          await google.colab.kernel.invokeFunction('convertToInteractive',\n",
              "                                                    [key], {});\n",
              "        if (!dataTable) return;\n",
              "\n",
              "        const docLinkHtml = 'Like what you see? Visit the ' +\n",
              "          '<a target=\"_blank\" href=https://colab.research.google.com/notebooks/data_table.ipynb>data table notebook</a>'\n",
              "          + ' to learn more about interactive tables.';\n",
              "        element.innerHTML = '';\n",
              "        dataTable['output_type'] = 'display_data';\n",
              "        await google.colab.output.renderOutput(dataTable, element);\n",
              "        const docLink = document.createElement('div');\n",
              "        docLink.innerHTML = docLinkHtml;\n",
              "        element.appendChild(docLink);\n",
              "      }\n",
              "    </script>\n",
              "  </div>\n",
              "\n",
              "\n",
              "<div id=\"df-dc1817be-bf3c-4649-b061-60aa1b195764\">\n",
              "  <button class=\"colab-df-quickchart\" onclick=\"quickchart('df-dc1817be-bf3c-4649-b061-60aa1b195764')\"\n",
              "            title=\"Suggest charts\"\n",
              "            style=\"display:none;\">\n",
              "\n",
              "<svg xmlns=\"http://www.w3.org/2000/svg\" height=\"24px\"viewBox=\"0 0 24 24\"\n",
              "     width=\"24px\">\n",
              "    <g>\n",
              "        <path d=\"M19 3H5c-1.1 0-2 .9-2 2v14c0 1.1.9 2 2 2h14c1.1 0 2-.9 2-2V5c0-1.1-.9-2-2-2zM9 17H7v-7h2v7zm4 0h-2V7h2v10zm4 0h-2v-4h2v4z\"/>\n",
              "    </g>\n",
              "</svg>\n",
              "  </button>\n",
              "\n",
              "<style>\n",
              "  .colab-df-quickchart {\n",
              "      --bg-color: #E8F0FE;\n",
              "      --fill-color: #1967D2;\n",
              "      --hover-bg-color: #E2EBFA;\n",
              "      --hover-fill-color: #174EA6;\n",
              "      --disabled-fill-color: #AAA;\n",
              "      --disabled-bg-color: #DDD;\n",
              "  }\n",
              "\n",
              "  [theme=dark] .colab-df-quickchart {\n",
              "      --bg-color: #3B4455;\n",
              "      --fill-color: #D2E3FC;\n",
              "      --hover-bg-color: #434B5C;\n",
              "      --hover-fill-color: #FFFFFF;\n",
              "      --disabled-bg-color: #3B4455;\n",
              "      --disabled-fill-color: #666;\n",
              "  }\n",
              "\n",
              "  .colab-df-quickchart {\n",
              "    background-color: var(--bg-color);\n",
              "    border: none;\n",
              "    border-radius: 50%;\n",
              "    cursor: pointer;\n",
              "    display: none;\n",
              "    fill: var(--fill-color);\n",
              "    height: 32px;\n",
              "    padding: 0;\n",
              "    width: 32px;\n",
              "  }\n",
              "\n",
              "  .colab-df-quickchart:hover {\n",
              "    background-color: var(--hover-bg-color);\n",
              "    box-shadow: 0 1px 2px rgba(60, 64, 67, 0.3), 0 1px 3px 1px rgba(60, 64, 67, 0.15);\n",
              "    fill: var(--button-hover-fill-color);\n",
              "  }\n",
              "\n",
              "  .colab-df-quickchart-complete:disabled,\n",
              "  .colab-df-quickchart-complete:disabled:hover {\n",
              "    background-color: var(--disabled-bg-color);\n",
              "    fill: var(--disabled-fill-color);\n",
              "    box-shadow: none;\n",
              "  }\n",
              "\n",
              "  .colab-df-spinner {\n",
              "    border: 2px solid var(--fill-color);\n",
              "    border-color: transparent;\n",
              "    border-bottom-color: var(--fill-color);\n",
              "    animation:\n",
              "      spin 1s steps(1) infinite;\n",
              "  }\n",
              "\n",
              "  @keyframes spin {\n",
              "    0% {\n",
              "      border-color: transparent;\n",
              "      border-bottom-color: var(--fill-color);\n",
              "      border-left-color: var(--fill-color);\n",
              "    }\n",
              "    20% {\n",
              "      border-color: transparent;\n",
              "      border-left-color: var(--fill-color);\n",
              "      border-top-color: var(--fill-color);\n",
              "    }\n",
              "    30% {\n",
              "      border-color: transparent;\n",
              "      border-left-color: var(--fill-color);\n",
              "      border-top-color: var(--fill-color);\n",
              "      border-right-color: var(--fill-color);\n",
              "    }\n",
              "    40% {\n",
              "      border-color: transparent;\n",
              "      border-right-color: var(--fill-color);\n",
              "      border-top-color: var(--fill-color);\n",
              "    }\n",
              "    60% {\n",
              "      border-color: transparent;\n",
              "      border-right-color: var(--fill-color);\n",
              "    }\n",
              "    80% {\n",
              "      border-color: transparent;\n",
              "      border-right-color: var(--fill-color);\n",
              "      border-bottom-color: var(--fill-color);\n",
              "    }\n",
              "    90% {\n",
              "      border-color: transparent;\n",
              "      border-bottom-color: var(--fill-color);\n",
              "    }\n",
              "  }\n",
              "</style>\n",
              "\n",
              "  <script>\n",
              "    async function quickchart(key) {\n",
              "      const quickchartButtonEl =\n",
              "        document.querySelector('#' + key + ' button');\n",
              "      quickchartButtonEl.disabled = true;  // To prevent multiple clicks.\n",
              "      quickchartButtonEl.classList.add('colab-df-spinner');\n",
              "      try {\n",
              "        const charts = await google.colab.kernel.invokeFunction(\n",
              "            'suggestCharts', [key], {});\n",
              "      } catch (error) {\n",
              "        console.error('Error during call to suggestCharts:', error);\n",
              "      }\n",
              "      quickchartButtonEl.classList.remove('colab-df-spinner');\n",
              "      quickchartButtonEl.classList.add('colab-df-quickchart-complete');\n",
              "    }\n",
              "    (() => {\n",
              "      let quickchartButtonEl =\n",
              "        document.querySelector('#df-dc1817be-bf3c-4649-b061-60aa1b195764 button');\n",
              "      quickchartButtonEl.style.display =\n",
              "        google.colab.kernel.accessAllowed ? 'block' : 'none';\n",
              "    })();\n",
              "  </script>\n",
              "</div>\n",
              "\n",
              "  <div id=\"id_12c3ed82-77d8-4b02-82a2-7c20f613c6b0\">\n",
              "    <style>\n",
              "      .colab-df-generate {\n",
              "        background-color: #E8F0FE;\n",
              "        border: none;\n",
              "        border-radius: 50%;\n",
              "        cursor: pointer;\n",
              "        display: none;\n",
              "        fill: #1967D2;\n",
              "        height: 32px;\n",
              "        padding: 0 0 0 0;\n",
              "        width: 32px;\n",
              "      }\n",
              "\n",
              "      .colab-df-generate:hover {\n",
              "        background-color: #E2EBFA;\n",
              "        box-shadow: 0px 1px 2px rgba(60, 64, 67, 0.3), 0px 1px 3px 1px rgba(60, 64, 67, 0.15);\n",
              "        fill: #174EA6;\n",
              "      }\n",
              "\n",
              "      [theme=dark] .colab-df-generate {\n",
              "        background-color: #3B4455;\n",
              "        fill: #D2E3FC;\n",
              "      }\n",
              "\n",
              "      [theme=dark] .colab-df-generate:hover {\n",
              "        background-color: #434B5C;\n",
              "        box-shadow: 0px 1px 3px 1px rgba(0, 0, 0, 0.15);\n",
              "        filter: drop-shadow(0px 1px 2px rgba(0, 0, 0, 0.3));\n",
              "        fill: #FFFFFF;\n",
              "      }\n",
              "    </style>\n",
              "    <button class=\"colab-df-generate\" onclick=\"generateWithVariable('submit')\"\n",
              "            title=\"Generate code using this dataframe.\"\n",
              "            style=\"display:none;\">\n",
              "\n",
              "  <svg xmlns=\"http://www.w3.org/2000/svg\" height=\"24px\"viewBox=\"0 0 24 24\"\n",
              "       width=\"24px\">\n",
              "    <path d=\"M7,19H8.4L18.45,9,17,7.55,7,17.6ZM5,21V16.75L18.45,3.32a2,2,0,0,1,2.83,0l1.4,1.43a1.91,1.91,0,0,1,.58,1.4,1.91,1.91,0,0,1-.58,1.4L9.25,21ZM18.45,9,17,7.55Zm-12,3A5.31,5.31,0,0,0,4.9,8.1,5.31,5.31,0,0,0,1,6.5,5.31,5.31,0,0,0,4.9,4.9,5.31,5.31,0,0,0,6.5,1,5.31,5.31,0,0,0,8.1,4.9,5.31,5.31,0,0,0,12,6.5,5.46,5.46,0,0,0,6.5,12Z\"/>\n",
              "  </svg>\n",
              "    </button>\n",
              "    <script>\n",
              "      (() => {\n",
              "      const buttonEl =\n",
              "        document.querySelector('#id_12c3ed82-77d8-4b02-82a2-7c20f613c6b0 button.colab-df-generate');\n",
              "      buttonEl.style.display =\n",
              "        google.colab.kernel.accessAllowed ? 'block' : 'none';\n",
              "\n",
              "      buttonEl.onclick = () => {\n",
              "        google.colab.notebook.generateWithVariable('submit');\n",
              "      }\n",
              "      })();\n",
              "    </script>\n",
              "  </div>\n",
              "\n",
              "    </div>\n",
              "  </div>\n"
            ],
            "application/vnd.google.colaboratory.intrinsic+json": {
              "type": "dataframe",
              "variable_name": "submit",
              "summary": "{\n  \"name\": \"submit\",\n  \"rows\": 418,\n  \"fields\": [\n    {\n      \"column\": \"PassengerId\",\n      \"properties\": {\n        \"dtype\": \"number\",\n        \"std\": 120,\n        \"min\": 892,\n        \"max\": 1309,\n        \"num_unique_values\": 418,\n        \"samples\": [\n          1213,\n          1216,\n          1280\n        ],\n        \"semantic_type\": \"\",\n        \"description\": \"\"\n      }\n    },\n    {\n      \"column\": \"Survived\",\n      \"properties\": {\n        \"dtype\": \"number\",\n        \"std\": 0,\n        \"min\": 0,\n        \"max\": 1,\n        \"num_unique_values\": 2,\n        \"samples\": [\n          1,\n          0\n        ],\n        \"semantic_type\": \"\",\n        \"description\": \"\"\n      }\n    }\n  ]\n}"
            }
          },
          "metadata": {},
          "execution_count": 115
        }
      ]
    },
    {
      "cell_type": "code",
      "source": [
        "submit['Survived'].value_counts()"
      ],
      "metadata": {
        "colab": {
          "base_uri": "https://localhost:8080/",
          "height": 178
        },
        "id": "O2-9E2zJbYas",
        "outputId": "b106ac55-04b2-4314-8bfe-b33012bee7b9"
      },
      "execution_count": null,
      "outputs": [
        {
          "output_type": "execute_result",
          "data": {
            "text/plain": [
              "Survived\n",
              "0    330\n",
              "1     88\n",
              "Name: count, dtype: int64"
            ],
            "text/html": [
              "<div>\n",
              "<style scoped>\n",
              "    .dataframe tbody tr th:only-of-type {\n",
              "        vertical-align: middle;\n",
              "    }\n",
              "\n",
              "    .dataframe tbody tr th {\n",
              "        vertical-align: top;\n",
              "    }\n",
              "\n",
              "    .dataframe thead th {\n",
              "        text-align: right;\n",
              "    }\n",
              "</style>\n",
              "<table border=\"1\" class=\"dataframe\">\n",
              "  <thead>\n",
              "    <tr style=\"text-align: right;\">\n",
              "      <th></th>\n",
              "      <th>count</th>\n",
              "    </tr>\n",
              "    <tr>\n",
              "      <th>Survived</th>\n",
              "      <th></th>\n",
              "    </tr>\n",
              "  </thead>\n",
              "  <tbody>\n",
              "    <tr>\n",
              "      <th>0</th>\n",
              "      <td>330</td>\n",
              "    </tr>\n",
              "    <tr>\n",
              "      <th>1</th>\n",
              "      <td>88</td>\n",
              "    </tr>\n",
              "  </tbody>\n",
              "</table>\n",
              "</div><br><label><b>dtype:</b> int64</label>"
            ]
          },
          "metadata": {},
          "execution_count": 114
        }
      ]
    },
    {
      "cell_type": "markdown",
      "source": [
        "## XGBoost\n",
        "- 분할 비율 7:3\n",
        "- Public Score: 0.76794"
      ],
      "metadata": {
        "id": "w7hqS19TfCHx"
      }
    },
    {
      "cell_type": "code",
      "source": [
        "from sklearn.model_selection import GridSearchCV\n",
        "from xgboost import XGBClassifier\n",
        "from sklearn.metrics import accuracy_score, classification_report\n",
        "\n",
        "param_grid = {\n",
        "    'learning_rate': [0.01, 0.05, 0.1, 0.2],\n",
        "    'n_estimators': [100, 200, 300, 400],\n",
        "    'max_depth': [3, 5, 7],\n",
        "    'subsample': [0.7, 0.8, 0.9],\n",
        "    'colsample_bytree': [0.7, 0.8, 0.9]\n",
        "}\n",
        "\n",
        "xgb = XGBClassifier(random_state=42, use_label_encoder=False, eval_metric='logloss')\n",
        "grid_search = GridSearchCV(estimator=xgb, param_grid=param_grid, cv=5, scoring='accuracy', n_jobs=-1, verbose=2)\n",
        "grid_search.fit(X_train, y_train)\n",
        "\n",
        "print(\"최적 하이퍼파라미터:\", grid_search.best_params_)\n",
        "print(\"최고 교차 검증 정확도:\", grid_search.best_score_)"
      ],
      "metadata": {
        "colab": {
          "base_uri": "https://localhost:8080/"
        },
        "id": "u58e9h_QfBZ_",
        "outputId": "44adae03-a9ee-4b22-88f4-10c41ca52eca"
      },
      "execution_count": null,
      "outputs": [
        {
          "output_type": "stream",
          "name": "stdout",
          "text": [
            "Fitting 5 folds for each of 432 candidates, totalling 2160 fits\n",
            "최적 하이퍼파라미터: {'colsample_bytree': 0.7, 'learning_rate': 0.01, 'max_depth': 7, 'n_estimators': 200, 'subsample': 0.9}\n",
            "최고 교차 검증 정확도: 0.8580190282025144\n"
          ]
        }
      ]
    },
    {
      "cell_type": "code",
      "source": [
        "best_xgb_grid = XGBClassifier(**grid_search.best_params_, random_state=42, use_label_encoder=False, eval_metric='logloss')\n",
        "best_xgb_grid.fit(X_train, y_train)\n",
        "\n",
        "y_pred = best_xgb_grid.predict(X_valid)\n",
        "print(\"Grid Search-XGBoost Accuracy:\", accuracy_score(y_valid, y_pred))\n",
        "print(classification_report(y_valid, y_pred))"
      ],
      "metadata": {
        "colab": {
          "base_uri": "https://localhost:8080/"
        },
        "id": "2YCX9PrCfhtw",
        "outputId": "2a2e374c-59ee-4fb0-a400-d7117b8920a0"
      },
      "execution_count": null,
      "outputs": [
        {
          "output_type": "stream",
          "name": "stdout",
          "text": [
            "Grid Search-XGBoost Accuracy: 0.8369098712446352\n",
            "              precision    recall  f1-score   support\n",
            "\n",
            "           0       0.83      0.95      0.88       151\n",
            "           1       0.87      0.63      0.73        82\n",
            "\n",
            "    accuracy                           0.84       233\n",
            "   macro avg       0.85      0.79      0.81       233\n",
            "weighted avg       0.84      0.84      0.83       233\n",
            "\n"
          ]
        }
      ]
    },
    {
      "cell_type": "code",
      "source": [
        "X_test = test[X_train.columns]\n",
        "y_test_pred_xgb = best_xgb_grid.predict(X_test)\n",
        "\n",
        "submission_path_xgb = \"/content/data/MyDrive/titanic/titanic/asset/result/submission_xgb.csv\"\n",
        "submit_xgb = pd.read_csv(\"/content/data/MyDrive/titanic/titanic/asset/result/submission.csv\")\n",
        "\n",
        "submit_xgb[\"Survived\"] = y_test_pred_xgb\n",
        "\n",
        "submit_xgb.to_csv(submission_path_xgb, index=False)"
      ],
      "metadata": {
        "id": "BIXumIIFfrjt"
      },
      "execution_count": null,
      "outputs": []
    },
    {
      "cell_type": "code",
      "source": [
        "submit_xgb['Survived'].value_counts()"
      ],
      "metadata": {
        "colab": {
          "base_uri": "https://localhost:8080/",
          "height": 178
        },
        "id": "P5e_m0HrgPkN",
        "outputId": "cdf92f94-80b3-492f-fc75-539325b9555c"
      },
      "execution_count": null,
      "outputs": [
        {
          "output_type": "execute_result",
          "data": {
            "text/plain": [
              "Survived\n",
              "0    281\n",
              "1    137\n",
              "Name: count, dtype: int64"
            ],
            "text/html": [
              "<div>\n",
              "<style scoped>\n",
              "    .dataframe tbody tr th:only-of-type {\n",
              "        vertical-align: middle;\n",
              "    }\n",
              "\n",
              "    .dataframe tbody tr th {\n",
              "        vertical-align: top;\n",
              "    }\n",
              "\n",
              "    .dataframe thead th {\n",
              "        text-align: right;\n",
              "    }\n",
              "</style>\n",
              "<table border=\"1\" class=\"dataframe\">\n",
              "  <thead>\n",
              "    <tr style=\"text-align: right;\">\n",
              "      <th></th>\n",
              "      <th>count</th>\n",
              "    </tr>\n",
              "    <tr>\n",
              "      <th>Survived</th>\n",
              "      <th></th>\n",
              "    </tr>\n",
              "  </thead>\n",
              "  <tbody>\n",
              "    <tr>\n",
              "      <th>0</th>\n",
              "      <td>281</td>\n",
              "    </tr>\n",
              "    <tr>\n",
              "      <th>1</th>\n",
              "      <td>137</td>\n",
              "    </tr>\n",
              "  </tbody>\n",
              "</table>\n",
              "</div><br><label><b>dtype:</b> int64</label>"
            ]
          },
          "metadata": {},
          "execution_count": 174
        }
      ]
    }
  ]
}